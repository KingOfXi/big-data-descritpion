{
 "cells": [
  {
   "cell_type": "code",
   "execution_count": null,
   "metadata": {},
   "outputs": [],
   "source": [
    "#研究背景介绍：\n",
    "#首先熟悉和观察犯罪信息和地理信息的关系\n",
    "#因为几年来房价上涨，升起了购房热潮，于是便有了探究房价和其他因素的关系。\n",
    "#在给出的数据中，有房价和犯罪类型，犯罪手段，地理信息等。。。。。。\n",
    "#于是借用已有的信息对房价进行预测，\n",
    "#"
   ]
  },
  {
   "cell_type": "code",
   "execution_count": 2,
   "metadata": {},
   "outputs": [],
   "source": [
    "import  pandas as pd\n",
    "import  numpy as np\n",
    "import sklearn\n",
    "import  seaborn as sns\n",
    "import matplotlib.pyplot as plt"
   ]
  },
  {
   "cell_type": "code",
   "execution_count": 4,
   "metadata": {},
   "outputs": [
    {
     "name": "stdout",
     "output_type": "stream",
     "text": [
      "NEIGHBORHOOD_CLUSTER      5496\n",
      "CENSUS_TRACT              1191\n",
      "offensegroup                 0\n",
      "LONGITUDE                    0\n",
      "END_DATE                 26766\n",
      "offense-text                 0\n",
      "SHIFT                        0\n",
      "YBLOCK                       0\n",
      "DISTRICT                     0\n",
      "WARD                         0\n",
      "YEAR                         0\n",
      "offensekey                   0\n",
      "BID                     374238\n",
      "sector                       0\n",
      "PSA                          0\n",
      "ucr-rank                     0\n",
      "BLOCK_GROUP               1191\n",
      "VOTING_PRECINCT              0\n",
      "XBLOCK                       0\n",
      "BLOCK                        0\n",
      "START_DATE                   0\n",
      "CCN                          0\n",
      "OFFENSE                      0\n",
      "OCTO_RECORD_ID               0\n",
      "ANC                          0\n",
      "REPORT_DAT                   0\n",
      "METHOD                       0\n",
      "location                     0\n",
      "LATITUDE                     0\n",
      "dtype: int64\n",
      "29\n"
     ]
    }
   ],
   "source": [
    "\n",
    "# 首先将冗余的数据直接drop掉。冗余的数据是直接用datagrip 将数据select 出来观察得到\n",
    "raw_data=pd.read_csv(\"DC_Crime.csv\")\n",
    "raw_data=pd.DataFrame(raw_data)\n",
    "raw_data.dropna(axis=0,how='any',subset=['WARD','START_DATE','DISTRICT','sector','PSA','BLOCK','VOTING_PRECINCT'],inplace=True)\n",
    "raw_data.reset_index(inplace=True,drop=True)\n",
    "# print(raw_data.loc[:,\"BID\"])\n",
    "# print(raw_data.loc[:,\"CENSUS_TRACT\"])\n",
    "# print(raw_data.loc[:,\"ucr-rank\"])\n",
    "m=raw_data.isnull().sum(axis=0)\n",
    "print(m)\n",
    "print(raw_data.shape[1])"
   ]
  },
  {
   "cell_type": "code",
   "execution_count": 5,
   "metadata": {},
   "outputs": [],
   "source": [
    "#去除重复且啰嗦的数据列\n",
    "raw_data=pd.DataFrame(raw_data.loc[:,['METHOD','OFFENSE','NEIGHBORHOOD_CLUSTER','CENSUS_TRACT','XBLOCK','BLOCK','YBLOCK','DISTRICT','WARD','sector','PSA','LONGITUDE','LATITUDE','VOTING_PRECINCT','CCN','OCTO_RECORD_ID','ANC','BLOCK_GROUP','YEAR','START_DATE','SHIFT','REPORT_DAT']])\n"
   ]
  },
  {
   "cell_type": "code",
   "execution_count": 6,
   "metadata": {
    "scrolled": true
   },
   "outputs": [
    {
     "name": "stdout",
     "output_type": "stream",
     "text": [
      "METHOD                     0\n",
      "OFFENSE                    0\n",
      "NEIGHBORHOOD_CLUSTER    5496\n",
      "CENSUS_TRACT            1191\n",
      "XBLOCK                     0\n",
      "BLOCK                      0\n",
      "YBLOCK                     0\n",
      "DISTRICT                   0\n",
      "WARD                       0\n",
      "sector                     0\n",
      "PSA                        0\n",
      "LONGITUDE                  0\n",
      "LATITUDE                   0\n",
      "VOTING_PRECINCT            0\n",
      "CCN                        0\n",
      "OCTO_RECORD_ID             0\n",
      "ANC                        0\n",
      "BLOCK_GROUP             1191\n",
      "YEAR                       0\n",
      "START_DATE                 0\n",
      "SHIFT                      0\n",
      "REPORT_DAT                 0\n",
      "dtype: int64\n",
      "22\n",
      "448866\n"
     ]
    }
   ],
   "source": [
    "#目前缺失值的情况\n",
    "m=raw_data.isnull().sum(axis=0)\n",
    "print(m)\n",
    "print(len(m))\n",
    "print(raw_data.shape[0])"
   ]
  },
  {
   "cell_type": "code",
   "execution_count": 8,
   "metadata": {},
   "outputs": [
    {
     "name": "stdout",
     "output_type": "stream",
     "text": [
      "448418\n"
     ]
    }
   ],
   "source": [
    "#去除START_DATE ,end_time 小于2008年的数据。因为发现2008年之前的数据有异常\n",
    "for i in range(raw_data.shape[0]):\n",
    "    if int(raw_data.loc[i,'START_DATE'][0:4])<2008:\n",
    "        raw_data.drop(index=i,inplace=True)\n",
    "\n",
    "raw_data.reset_index(inplace=True,drop=True)\n",
    "print(raw_data.shape[0])\n",
    "raw_data.to_csv(r'raw_data_crime.csv',index = None)"
   ]
  },
  {
   "cell_type": "code",
   "execution_count": 9,
   "metadata": {
    "scrolled": true
   },
   "outputs": [
    {
     "name": "stdout",
     "output_type": "stream",
     "text": [
      "    YEAR   size\n",
      "0   2008  33958\n",
      "1   2009  31223\n",
      "2   2010  31635\n",
      "3   2011  33255\n",
      "4   2012  35273\n",
      "5   2013  35853\n",
      "6   2014  38399\n",
      "7   2015  37248\n",
      "8   2016  37203\n",
      "9   2017  33107\n",
      "10  2018  33749\n",
      "11  2019  33906\n",
      "12  2020  27866\n",
      "13  2021   5743\n"
     ]
    }
   ],
   "source": [
    "#观察每年中 各个offense的发生次数\n",
    "dectect_year_offence=raw_data[['YEAR','OFFENSE']]\n",
    "#dectect_year_offence=pd.DataFrame(raw_data.groupby(['YEAR'])['OFFENSE'].value_counts())\n",
    "\n",
    "dectect_year_offence=pd.DataFrame(dectect_year_offence.groupby(['YEAR'],as_index=False).size())\n",
    "print(dectect_year_offence)"
   ]
  },
  {
   "cell_type": "code",
   "execution_count": 11,
   "metadata": {},
   "outputs": [
    {
     "data": {
      "text/html": [
       "<div>\n",
       "<style scoped>\n",
       "    .dataframe tbody tr th:only-of-type {\n",
       "        vertical-align: middle;\n",
       "    }\n",
       "\n",
       "    .dataframe tbody tr th {\n",
       "        vertical-align: top;\n",
       "    }\n",
       "\n",
       "    .dataframe thead th {\n",
       "        text-align: right;\n",
       "    }\n",
       "</style>\n",
       "<table border=\"1\" class=\"dataframe\">\n",
       "  <thead>\n",
       "    <tr style=\"text-align: right;\">\n",
       "      <th></th>\n",
       "      <th>SHIFT</th>\n",
       "      <th>METHOD</th>\n",
       "      <th>OFFENSE</th>\n",
       "      <th>NEIGHBORHOOD_CLUSTER</th>\n",
       "      <th>CENSUS_TRACT</th>\n",
       "      <th>XBLOCK</th>\n",
       "      <th>BLOCK</th>\n",
       "      <th>YBLOCK</th>\n",
       "      <th>DISTRICT</th>\n",
       "      <th>WARD</th>\n",
       "      <th>...</th>\n",
       "      <th>LONGITUDE</th>\n",
       "      <th>LATITUDE</th>\n",
       "      <th>VOTING_PRECINCT</th>\n",
       "      <th>CCN</th>\n",
       "      <th>OCTO_RECORD_ID</th>\n",
       "      <th>ANC</th>\n",
       "      <th>BLOCK_GROUP</th>\n",
       "      <th>YEAR</th>\n",
       "      <th>START_DATE</th>\n",
       "      <th>REPORT_DAT</th>\n",
       "    </tr>\n",
       "  </thead>\n",
       "  <tbody>\n",
       "    <tr>\n",
       "      <th>0</th>\n",
       "      <td>day</td>\n",
       "      <td>169329</td>\n",
       "      <td>169329</td>\n",
       "      <td>167280</td>\n",
       "      <td>168927</td>\n",
       "      <td>169329</td>\n",
       "      <td>169329</td>\n",
       "      <td>169329</td>\n",
       "      <td>169329</td>\n",
       "      <td>169329</td>\n",
       "      <td>...</td>\n",
       "      <td>169329</td>\n",
       "      <td>169329</td>\n",
       "      <td>169329</td>\n",
       "      <td>169329</td>\n",
       "      <td>169329</td>\n",
       "      <td>169329</td>\n",
       "      <td>168927</td>\n",
       "      <td>169329</td>\n",
       "      <td>169329</td>\n",
       "      <td>169329</td>\n",
       "    </tr>\n",
       "    <tr>\n",
       "      <th>1</th>\n",
       "      <td>evening</td>\n",
       "      <td>191672</td>\n",
       "      <td>191672</td>\n",
       "      <td>189319</td>\n",
       "      <td>191198</td>\n",
       "      <td>191672</td>\n",
       "      <td>191672</td>\n",
       "      <td>191672</td>\n",
       "      <td>191672</td>\n",
       "      <td>191672</td>\n",
       "      <td>...</td>\n",
       "      <td>191672</td>\n",
       "      <td>191672</td>\n",
       "      <td>191672</td>\n",
       "      <td>191672</td>\n",
       "      <td>191672</td>\n",
       "      <td>191672</td>\n",
       "      <td>191198</td>\n",
       "      <td>191672</td>\n",
       "      <td>191672</td>\n",
       "      <td>191672</td>\n",
       "    </tr>\n",
       "    <tr>\n",
       "      <th>2</th>\n",
       "      <td>midnight</td>\n",
       "      <td>87417</td>\n",
       "      <td>87417</td>\n",
       "      <td>86337</td>\n",
       "      <td>87102</td>\n",
       "      <td>87417</td>\n",
       "      <td>87417</td>\n",
       "      <td>87417</td>\n",
       "      <td>87417</td>\n",
       "      <td>87417</td>\n",
       "      <td>...</td>\n",
       "      <td>87417</td>\n",
       "      <td>87417</td>\n",
       "      <td>87417</td>\n",
       "      <td>87417</td>\n",
       "      <td>87417</td>\n",
       "      <td>87417</td>\n",
       "      <td>87102</td>\n",
       "      <td>87417</td>\n",
       "      <td>87417</td>\n",
       "      <td>87417</td>\n",
       "    </tr>\n",
       "  </tbody>\n",
       "</table>\n",
       "<p>3 rows × 22 columns</p>\n",
       "</div>"
      ],
      "text/plain": [
       "      SHIFT  METHOD  OFFENSE  NEIGHBORHOOD_CLUSTER  CENSUS_TRACT  XBLOCK  \\\n",
       "0       day  169329   169329                167280        168927  169329   \n",
       "1   evening  191672   191672                189319        191198  191672   \n",
       "2  midnight   87417    87417                 86337         87102   87417   \n",
       "\n",
       "    BLOCK  YBLOCK  DISTRICT    WARD  ...  LONGITUDE  LATITUDE  \\\n",
       "0  169329  169329    169329  169329  ...     169329    169329   \n",
       "1  191672  191672    191672  191672  ...     191672    191672   \n",
       "2   87417   87417     87417   87417  ...      87417     87417   \n",
       "\n",
       "   VOTING_PRECINCT     CCN  OCTO_RECORD_ID     ANC  BLOCK_GROUP    YEAR  \\\n",
       "0           169329  169329          169329  169329       168927  169329   \n",
       "1           191672  191672          191672  191672       191198  191672   \n",
       "2            87417   87417           87417   87417        87102   87417   \n",
       "\n",
       "   START_DATE  REPORT_DAT  \n",
       "0      169329      169329  \n",
       "1      191672      191672  \n",
       "2       87417       87417  \n",
       "\n",
       "[3 rows x 22 columns]"
      ]
     },
     "execution_count": 11,
     "metadata": {},
     "output_type": "execute_result"
    }
   ],
   "source": [
    "shift_offense=raw_data.groupby(['SHIFT'],as_index=False).count()\n",
    "shift_offense"
   ]
  },
  {
   "cell_type": "code",
   "execution_count": null,
   "metadata": {},
   "outputs": [],
   "source": []
  },
  {
   "cell_type": "code",
   "execution_count": null,
   "metadata": {},
   "outputs": [],
   "source": []
  },
  {
   "cell_type": "code",
   "execution_count": 8,
   "metadata": {},
   "outputs": [
    {
     "name": "stdout",
     "output_type": "stream",
     "text": [
      "over\n"
     ]
    },
    {
     "data": {
      "image/png": "[encoded data removed]",
      "text/plain": [
       "<Figure size 432x288 with 1 Axes>"
      ]
     },
     "metadata": {
      "needs_background": "light"
     },
     "output_type": "display_data"
    }
   ],
   "source": [
    "#将每年中 各个offense的发生次数 可视化\n",
    "ab=sns.barplot(x='YEAR',y='size',data=dectect_year_offence)\n",
    "print(\"over\")\n",
    "plt.xlabel(\"YEAR\")\n",
    "plt.ylabel(\"offence counts\")\n",
    "plt.show()"
   ]
  },
  {
   "cell_type": "code",
   "execution_count": 9,
   "metadata": {},
   "outputs": [
    {
     "name": "stdout",
     "output_type": "stream",
     "text": [
      "      SHIFT    size\n",
      "0       day  169329\n",
      "1   evening  191672\n",
      "2  midnight   87417\n"
     ]
    }
   ],
   "source": [
    "#观察每个月中offence发生的次数\n",
    "dectect_shift_offence=raw_data[['SHIFT','OFFENSE']]\n",
    "dectect_shift_offence=pd.DataFrame(raw_data.groupby(['SHIFT'],as_index=False)['OFFENSE'].size())\n",
    "print(dectect_shift_offence)\n"
   ]
  },
  {
   "cell_type": "code",
   "execution_count": 10,
   "metadata": {},
   "outputs": [
    {
     "name": "stdout",
     "output_type": "stream",
     "text": [
      "over\n"
     ]
    },
    {
     "data": {
      "image/png": "[encoded data removed]",
      "text/plain": [
       "<Figure size 432x288 with 1 Axes>"
      ]
     },
     "metadata": {
      "needs_background": "light"
     },
     "output_type": "display_data"
    }
   ],
   "source": [
    "#观察每个时间段发生的次数\n",
    "ab=sns.barplot(x='SHIFT',y='size',data=dectect_shift_offence)\n",
    "print(\"over\")\n",
    "plt.xlabel(\"SHIFT\")\n",
    "plt.ylabel(\"offence counts\")\n",
    "plt.show()\n",
    "\n"
   ]
  },
  {
   "cell_type": "code",
   "execution_count": 11,
   "metadata": {},
   "outputs": [
    {
     "name": "stdout",
     "output_type": "stream",
     "text": [
      "   REPORT_DAT   size\n",
      "0          01  36963\n",
      "1          02  30739\n",
      "2          03  33976\n",
      "3          04  33319\n",
      "4          05  38018\n",
      "5          06  38991\n",
      "6          07  40640\n",
      "7          08  40831\n",
      "8          09  39675\n",
      "9          10  41301\n",
      "10         11  37192\n",
      "11         12  36773\n"
     ]
    }
   ],
   "source": [
    "#观察每个月发生的次数\n",
    "dectect_month_offence=pd.DataFrame(raw_data[['REPORT_DAT','OFFENSE']])\n",
    "dectect_month_offence['REPORT_DAT']=dectect_month_offence['REPORT_DAT'].str[5:7]\n",
    "dectect_month_offence=pd.DataFrame(dectect_month_offence.groupby(['REPORT_DAT'],as_index=False)['OFFENSE'].size())\n",
    "print(dectect_month_offence)"
   ]
  },
  {
   "cell_type": "code",
   "execution_count": 12,
   "metadata": {},
   "outputs": [
    {
     "name": "stdout",
     "output_type": "stream",
     "text": [
      "over\n"
     ]
    },
    {
     "data": {
      "image/png": "[encoded data removed]",
      "text/plain": [
       "<Figure size 432x288 with 1 Axes>"
      ]
     },
     "metadata": {
      "needs_background": "light"
     },
     "output_type": "display_data"
    }
   ],
   "source": [
    "#每个月发生的次数进行可视化\n",
    "ab=sns.barplot(x='REPORT_DAT',y='size',data=dectect_month_offence)\n",
    "print(\"over\")\n",
    "plt.xlabel(\"month\")\n",
    "plt.ylabel(\"offence counts\")\n",
    "plt.show()"
   ]
  },
  {
   "cell_type": "code",
   "execution_count": 13,
   "metadata": {},
   "outputs": [
    {
     "name": "stdout",
     "output_type": "stream",
     "text": [
      "                       OFFENSE  METHOD    size\n",
      "0                        arson     gun       1\n",
      "1                        arson   knife       1\n",
      "2                        arson  others     353\n",
      "3   assault w/dangerous weapon     gun    8983\n",
      "4   assault w/dangerous weapon   knife   10411\n",
      "5   assault w/dangerous weapon  others    9461\n",
      "6                     burglary     gun     319\n",
      "7                     burglary   knife     119\n",
      "8                     burglary  others   35419\n",
      "9                     homicide     gun    1372\n",
      "10                    homicide   knife     196\n",
      "11                    homicide  others     228\n",
      "12         motor vehicle theft     gun      14\n",
      "13         motor vehicle theft   knife       6\n",
      "14         motor vehicle theft  others   42043\n",
      "15                     robbery     gun   15979\n",
      "16                     robbery   knife    2450\n",
      "17                     robbery  others   23736\n",
      "18                   sex abuse     gun     175\n",
      "19                   sex abuse   knife     200\n",
      "20                   sex abuse  others    2716\n",
      "21                theft f/auto     gun      23\n",
      "22                theft f/auto   knife      16\n",
      "23                theft f/auto  others  118924\n",
      "24                 theft/other     gun      58\n",
      "25                 theft/other   knife     108\n",
      "26                 theft/other  others  175107\n"
     ]
    }
   ],
   "source": [
    "# offence 和method  的关系\n",
    "dectect_offence_method=pd.DataFrame(raw_data[['OFFENSE','METHOD']])\n",
    "dectect_offence_method=pd.DataFrame(dectect_offence_method.groupby(['OFFENSE','METHOD'],as_index=False).size())\n",
    "print(dectect_offence_method)"
   ]
  },
  {
   "cell_type": "code",
   "execution_count": 14,
   "metadata": {},
   "outputs": [
    {
     "name": "stdout",
     "output_type": "stream",
     "text": [
      "over\n"
     ]
    },
    {
     "data": {
      "image/png": "[encoded data removed]",
      "text/plain": [
       "<Figure size 432x288 with 1 Axes>"
      ]
     },
     "metadata": {
      "needs_background": "light"
     },
     "output_type": "display_data"
    }
   ],
   "source": [
    "#可视化 offence 和method  的关系\n",
    "ab=sns.barplot(x='OFFENSE',y='size',hue='METHOD',data=dectect_offence_method)\n",
    "print(\"over\")\n",
    "plt.xlabel(\"OFFENSE\")\n",
    "plt.ylabel(\"offence counts\")\n",
    "plt.show()"
   ]
  },
  {
   "cell_type": "code",
   "execution_count": 15,
   "metadata": {},
   "outputs": [
    {
     "name": "stdout",
     "output_type": "stream",
     "text": [
      "    WARD                     OFFENSE  size\n",
      "0    1.0                       arson     9\n",
      "1    1.0  assault w/dangerous weapon   483\n",
      "2    1.0                    burglary  1377\n",
      "3    1.0         motor vehicle theft  1570\n",
      "4    1.0                     robbery  1164\n",
      "..   ...                         ...   ...\n",
      "58   8.0         motor vehicle theft  3468\n",
      "59   8.0                     robbery  1689\n",
      "60   8.0                   sex abuse   162\n",
      "61   8.0                theft f/auto  4073\n",
      "62   8.0                 theft/other  4874\n",
      "\n",
      "[63 rows x 3 columns]\n",
      "over\n"
     ]
    },
    {
     "data": {
      "image/png": "[encoded data removed]",
      "text/plain": [
       "<Figure size 432x288 with 1 Axes>"
      ]
     },
     "metadata": {
      "needs_background": "light"
     },
     "output_type": "display_data"
    }
   ],
   "source": [
    "#  offense 类型随时间和地点的变化图\n",
    "dectect_offence_shift_ward=pd.DataFrame(raw_data[['OFFENSE','SHIFT','WARD']])\n",
    "\n",
    "#day 时间的ward 和offense 类型犯罪的数量统计\n",
    "dectect_offence_shift_ward.drop(index=dectect_offence_shift_ward[(raw_data.loc[:,'SHIFT']!='day')].index,inplace=True)\n",
    "dectect_offence_shift_ward.reset_index(inplace=True,drop=True)\n",
    "\n",
    "dectect_offence_shift_ward=pd.DataFrame(dectect_offence_shift_ward[['OFFENSE','WARD']])\n",
    "dectect_offence_shift_ward=pd.DataFrame(dectect_offence_shift_ward.groupby(['WARD','OFFENSE'],as_index=False).size())\n",
    "\n",
    "\n",
    "print(dectect_offence_shift_ward)\n",
    "\n",
    "#不同的ward不同offense的犯罪数量的观察\n",
    "\n",
    "ab=sns.barplot(x='WARD',y='size',hue='OFFENSE',data=dectect_offence_shift_ward)\n",
    "print(\"over\")\n",
    "plt.xlabel(\"WARD\")\n",
    "plt.ylabel(\"offence counts\")\n",
    "plt.show()"
   ]
  },
  {
   "cell_type": "code",
   "execution_count": 16,
   "metadata": {},
   "outputs": [
    {
     "name": "stdout",
     "output_type": "stream",
     "text": [
      "       SHIFT  WARD   size\n",
      "0        day   1.0  22560\n",
      "1        day   2.0  28943\n",
      "2        day   3.0  10812\n",
      "3        day   4.0  16813\n",
      "4        day   5.0  23883\n",
      "5        day   6.0  27925\n",
      "6        day   7.0  19910\n",
      "7        day   8.0  18483\n",
      "8    evening   1.0  26702\n",
      "9    evening   2.0  38357\n",
      "10   evening   3.0  11422\n",
      "11   evening   4.0  16901\n",
      "12   evening   5.0  24395\n",
      "13   evening   6.0  30360\n",
      "14   evening   7.0  23174\n",
      "15   evening   8.0  20361\n",
      "16  midnight   1.0  14159\n",
      "17  midnight   2.0  14417\n",
      "18  midnight   3.0   2186\n",
      "19  midnight   4.0   7087\n",
      "20  midnight   5.0  12791\n",
      "21  midnight   6.0  12411\n",
      "22  midnight   7.0  12398\n",
      "23  midnight   8.0  11968\n",
      "object\n",
      "   SHIFT  WARD   size\n",
      "0      0   1.0  22560\n",
      "1      0   2.0  28943\n",
      "2      0   3.0  10812\n",
      "3      0   4.0  16813\n",
      "4      0   5.0  23883\n",
      "5      0   6.0  27925\n",
      "6      0   7.0  19910\n",
      "7      0   8.0  18483\n",
      "8      1   1.0  26702\n",
      "9      1   2.0  38357\n",
      "10     1   3.0  11422\n",
      "11     1   4.0  16901\n",
      "12     1   5.0  24395\n",
      "13     1   6.0  30360\n",
      "14     1   7.0  23174\n",
      "15     1   8.0  20361\n",
      "16     2   1.0  14159\n",
      "17     2   2.0  14417\n",
      "18     2   3.0   2186\n",
      "19     2   4.0   7087\n",
      "20     2   5.0  12791\n",
      "21     2   6.0  12411\n",
      "22     2   7.0  12398\n",
      "23     2   8.0  11968\n",
      "int32\n",
      "WARD     1.0    2.0    3.0    4.0    5.0    6.0    7.0    8.0\n",
      "SHIFT                                                        \n",
      "0      22560  28943  10812  16813  23883  27925  19910  18483\n",
      "1      26702  38357  11422  16901  24395  30360  23174  20361\n",
      "2      14159  14417   2186   7087  12791  12411  12398  11968\n"
     ]
    },
    {
     "data": {
      "text/plain": [
       "<AxesSubplot:xlabel='WARD', ylabel='SHIFT'>"
      ]
     },
     "execution_count": 16,
     "metadata": {},
     "output_type": "execute_result"
    },
    {
     "data": {
      "image/png": "[encoded data removed]",
      "text/plain": [
       "<Figure size 432x288 with 2 Axes>"
      ]
     },
     "metadata": {
      "needs_background": "light"
     },
     "output_type": "display_data"
    }
   ],
   "source": [
    "#热力图作品,对于shift 和ward 的offense的犯罪数量的变化\n",
    "import  pandas as pd\n",
    "data_shift_ward_count=pd.DataFrame(raw_data[['SHIFT','WARD','OFFENSE']])\n",
    "\n",
    "# print(data_shift_ward_count)\n",
    "\n",
    "data_shift_ward_count=pd.DataFrame(data_shift_ward_count.groupby(['SHIFT','WARD'],as_index=False)['OFFENSE'].size())\n",
    "print(data_shift_ward_count)\n",
    "print(data_shift_ward_count['SHIFT'].dtype)\n",
    "\n",
    "for i in range(data_shift_ward_count.shape[0]):\n",
    "    if data_shift_ward_count.loc[i,'SHIFT']=='day':\n",
    "        data_shift_ward_count.loc[i,'SHIFT']=0\n",
    "    if data_shift_ward_count.loc[i,'SHIFT']=='evening':\n",
    "        data_shift_ward_count.loc[i,'SHIFT']=1\n",
    "    if data_shift_ward_count.loc[i,'SHIFT']=='midnight':\n",
    "        data_shift_ward_count.loc[i,'SHIFT']=2\n",
    "\n",
    "        \n",
    "        \n",
    "print(data_shift_ward_count)\n",
    "data_shift_ward_count['SHIFT']=data_shift_ward_count['SHIFT'].astype(int)\n",
    "print(data_shift_ward_count['SHIFT'].dtype)\n",
    "\n",
    "data_shift_ward_count=data_shift_ward_count.pivot('SHIFT','WARD','size')\n",
    "print (data_shift_ward_count)\n",
    "sns.heatmap(data_shift_ward_count,linewidths=0.5)\n",
    "#如果根据ward分类，发现day 和evening的时候发生的犯罪数量更多"
   ]
  },
  {
   "cell_type": "code",
   "execution_count": 17,
   "metadata": {},
   "outputs": [
    {
     "name": "stdout",
     "output_type": "stream",
     "text": [
      "       SHIFT  DISTRICT   size\n",
      "0        day       1.0  25137\n",
      "1        day       2.0  31209\n",
      "2        day       3.0  29534\n",
      "3        day       4.0  23112\n",
      "4        day       5.0  22727\n",
      "5        day       6.0  21628\n",
      "6        day       7.0  15982\n",
      "7    evening       1.0  28805\n",
      "8    evening       2.0  38367\n",
      "9    evening       3.0  34295\n",
      "10   evening       4.0  24139\n",
      "11   evening       5.0  23435\n",
      "12   evening       6.0  24652\n",
      "13   evening       7.0  17979\n",
      "14  midnight       1.0  11088\n",
      "15  midnight       2.0  11321\n",
      "16  midnight       3.0  17721\n",
      "17  midnight       4.0  10492\n",
      "18  midnight       5.0  12983\n",
      "19  midnight       6.0  13145\n",
      "20  midnight       7.0  10667\n",
      "object\n",
      "int32\n",
      "DISTRICT    1.0    2.0    3.0    4.0    5.0    6.0    7.0\n",
      "SHIFT                                                    \n",
      "0         25137  31209  29534  23112  22727  21628  15982\n",
      "1         28805  38367  34295  24139  23435  24652  17979\n",
      "2         11088  11321  17721  10492  12983  13145  10667\n"
     ]
    },
    {
     "data": {
      "text/plain": [
       "<AxesSubplot:xlabel='DISTRICT', ylabel='SHIFT'>"
      ]
     },
     "execution_count": 17,
     "metadata": {},
     "output_type": "execute_result"
    },
    {
     "data": {
      "image/png": "[encoded data removed]",
      "text/plain": [
       "<Figure size 432x288 with 2 Axes>"
      ]
     },
     "metadata": {
      "needs_background": "light"
     },
     "output_type": "display_data"
    }
   ],
   "source": [
    "data_shift_district_count=pd.DataFrame(raw_data[['SHIFT','DISTRICT','OFFENSE']])\n",
    "\n",
    "\n",
    "\n",
    "# print(data_shift_ward_count)\n",
    "\n",
    "data_shift_district_count=pd.DataFrame(data_shift_district_count.groupby(['SHIFT','DISTRICT'],as_index=False)['OFFENSE'].size())\n",
    "print(data_shift_district_count)\n",
    "print(data_shift_district_count['SHIFT'].dtype)\n",
    "\n",
    "for i in range(data_shift_district_count.shape[0]):\n",
    "    if data_shift_district_count.loc[i,'SHIFT']=='day':\n",
    "        data_shift_district_count.loc[i,'SHIFT']=0\n",
    "    if data_shift_district_count.loc[i,'SHIFT']=='evening':\n",
    "        data_shift_district_count.loc[i,'SHIFT']=1\n",
    "    if data_shift_district_count.loc[i,'SHIFT']=='midnight':\n",
    "        data_shift_district_count.loc[i,'SHIFT']=2\n",
    "\n",
    "        \n",
    "data_shift_district_count['SHIFT']=data_shift_district_count['SHIFT'].astype(int)\n",
    "print(data_shift_district_count['SHIFT'].dtype)\n",
    "\n",
    "data_shift_district_count=data_shift_district_count.pivot('SHIFT','DISTRICT','size')\n",
    "print (data_shift_district_count)\n",
    "sns.heatmap(data_shift_district_count,linewidths=0.5)\n",
    "#根据district 进行分类，发现也是day 和evening的 犯罪数量最多"
   ]
  },
  {
   "cell_type": "code",
   "execution_count": 18,
   "metadata": {},
   "outputs": [
    {
     "name": "stdout",
     "output_type": "stream",
     "text": [
      "       SHIFT sector   size\n",
      "0        day    1D1   7200\n",
      "1        day    1D2  11327\n",
      "2        day    1D3   6345\n",
      "3        day    2D1   7031\n",
      "4        day    2D2   9146\n",
      "..       ...    ...    ...\n",
      "58  midnight    6D2   3490\n",
      "59  midnight    6D3   4639\n",
      "60  midnight    7D1   3809\n",
      "61  midnight    7D2   3804\n",
      "62  midnight    7D3   3096\n",
      "\n",
      "[63 rows x 3 columns]\n",
      "object\n",
      "int32\n",
      "sector    1D1    1D2   1D3   2D1    2D2    2D3    3D1    3D2    3D3   4D1  \\\n",
      "SHIFT                                                                       \n",
      "0        7200  11327  6345  7031   9146  15078   9019  10082  10531  8316   \n",
      "1       10011  11305  7148  8008  11283  19140  11012  11986  11435  8670   \n",
      "2        4337   3979  2533  1353   2300   7699   4510   7282   6020  3664   \n",
      "\n",
      "sector  ...   4D3   5D1   5D2   5D3   6D1   6D2   6D3   7D1   7D2   7D3  \n",
      "SHIFT   ...                                                              \n",
      "0       ...  7373  6437  9432  6903  7833  7063  6745  5673  5800  4571  \n",
      "1       ...  8065  7001  8643  7832  9063  6911  8700  6346  6703  5016  \n",
      "2       ...  3632  3343  5332  4374  5026  3490  4639  3809  3804  3096  \n",
      "\n",
      "[3 rows x 21 columns]\n"
     ]
    },
    {
     "data": {
      "text/plain": [
       "<AxesSubplot:xlabel='sector', ylabel='SHIFT'>"
      ]
     },
     "execution_count": 18,
     "metadata": {},
     "output_type": "execute_result"
    },
    {
     "data": {
      "image/png": "[encoded data removed]",
      "text/plain": [
       "<Figure size 432x288 with 2 Axes>"
      ]
     },
     "metadata": {
      "needs_background": "light"
     },
     "output_type": "display_data"
    }
   ],
   "source": [
    "#绘出sector不同时和犯罪数量的热力图\n",
    "data_shift_sector_count=pd.DataFrame(raw_data[['SHIFT','sector','OFFENSE']])\n",
    "# print(data_shift_ward_count)\n",
    "\n",
    "data_shift_sector_count=pd.DataFrame(data_shift_sector_count.groupby(['SHIFT','sector'],as_index=False)['OFFENSE'].size())\n",
    "print(data_shift_sector_count)\n",
    "print(data_shift_sector_count['SHIFT'].dtype)\n",
    "\n",
    "for i in range(data_shift_sector_count.shape[0]):\n",
    "    if data_shift_sector_count.loc[i,'SHIFT']=='day':\n",
    "        data_shift_sector_count.loc[i,'SHIFT']=0\n",
    "    if data_shift_sector_count.loc[i,'SHIFT']=='evening':\n",
    "        data_shift_sector_count.loc[i,'SHIFT']=1\n",
    "    if data_shift_sector_count.loc[i,'SHIFT']=='midnight':\n",
    "        data_shift_sector_count.loc[i,'SHIFT']=2\n",
    "\n",
    "data_shift_sector_count['SHIFT']=data_shift_sector_count['SHIFT'].astype(int)\n",
    "print(data_shift_sector_count['SHIFT'].dtype)\n",
    "\n",
    "data_shift_sector_count=data_shift_sector_count.pivot('SHIFT','sector','size')\n",
    "print (data_shift_sector_count)\n",
    "sns.heatmap(data_shift_sector_count,linewidths=0.5)"
   ]
  },
  {
   "cell_type": "code",
   "execution_count": 19,
   "metadata": {},
   "outputs": [
    {
     "name": "stdout",
     "output_type": "stream",
     "text": [
      "WARD   1.0   2.0   3.0   4.0   5.0   6.0   7.0   8.0\n",
      "YEAR                                                \n",
      "2008  4896  6244  1854  2982  4058  5136  4358  4430\n",
      "2009  4425  5828  1958  2855  3682  4514  3744  4217\n",
      "2010  4356  5574  1927  3095  3969  4234  4006  4474\n",
      "2011  4879  6159  1923  2908  4279  4771  4023  4313\n",
      "2012  4997  6549  1788  2990  4772  5476  4335  4366\n",
      "2013  5406  5958  1950  3267  4601  5625  4612  4434\n",
      "2014  5406  6773  1831  3811  5398  5995  5101  4084\n",
      "2015  5251  6780  1914  3540  5202  6067  4458  4036\n",
      "2016  5445  7305  1795  3192  4908  6401  4273  3884\n",
      "2017  4630  5969  1575  2887  4807  5510  4310  3419\n",
      "2018  4629  6254  1935  3107  5008  5622  4075  3119\n",
      "2019  4728  7115  1957  2894  5081  5639  3736  2756\n",
      "2020  3529  4360  1702  2700  4374  4747  3716  2738\n",
      "2021   844   849   311   573   930   959   735   542\n"
     ]
    },
    {
     "data": {
      "text/plain": [
       "<AxesSubplot:xlabel='WARD', ylabel='YEAR'>"
      ]
     },
     "execution_count": 19,
     "metadata": {},
     "output_type": "execute_result"
    },
    {
     "data": {
      "image/png": "[encoded data removed]",
      "text/plain": [
       "<Figure size 432x288 with 2 Axes>"
      ]
     },
     "metadata": {
      "needs_background": "light"
     },
     "output_type": "display_data"
    }
   ],
   "source": [
    "#根据时间绘画出ward 和year的热力图。\n",
    "data_year_ward_count=pd.DataFrame(raw_data[['YEAR','WARD','OFFENSE']])\n",
    "data_year_ward_count=pd.DataFrame(data_year_ward_count.groupby(['YEAR','WARD'],as_index=False)['OFFENSE'].size())\n",
    "data_year_ward_count['YEAR']=data_year_ward_count['YEAR'].astype(int)\n",
    "\n",
    "data_year_ward_count=data_year_ward_count.pivot('YEAR','WARD','size')\n",
    "print (data_year_ward_count)\n",
    "sns.heatmap(data_year_ward_count,linewidths=0.5)"
   ]
  },
  {
   "cell_type": "code",
   "execution_count": 21,
   "metadata": {},
   "outputs": [
    {
     "name": "stdout",
     "output_type": "stream",
     "text": [
      "sector   1D1   1D2   1D3   2D1   2D2   2D3   3D1   3D2   3D3   4D1  ...   4D3  \\\n",
      "YEAR                                                                ...         \n",
      "2008    1795  2068  1087  1165  1718  3130  1905  2145  2287  1534  ...  1360   \n",
      "2009    1557  1789  1004  1260  1745  2985  1765  1844  2004  1448  ...  1320   \n",
      "2010    1498  1677   946  1180  1751  2899  1765  1765  1898  1595  ...  1367   \n",
      "2011    1720  2006   936  1193  1803  3101  1951  1993  2236  1488  ...  1449   \n",
      "2012    1649  2224  1219  1160  1657  3221  1851  2409  2312  1540  ...  1511   \n",
      "2013    1547  2339  1312  1437  1611  2886  2104  2212  2126  1561  ...  1722   \n",
      "2014    1840  2395  1294  1341  1722  3284  2173  2379  2344  2025  ...  1728   \n",
      "2015    1735  2318  1464  1299  1783  3496  2098  2296  2227  1881  ...  1733   \n",
      "2016    2059  2206  1481  1195  1743  3858  2025  2813  2579  1604  ...  1517   \n",
      "2017    1675  1826  1416  1071  1698  3003  1813  2142  1946  1418  ...  1410   \n",
      "2018    1642  1763  1329  1326  1954  3209  1703  2575  1962  1589  ...  1292   \n",
      "2019    1504  1881  1317  1394  1821  4066  1707  2640  2068  1456  ...  1276   \n",
      "2020    1128  1815   980  1171  1423  2355  1352  1713  1626  1220  ...  1148   \n",
      "2021     199   304   241   200   300   424   329   424   371   291  ...   237   \n",
      "\n",
      "sector   5D1   5D2   5D3   6D1   6D2   6D3   7D1   7D2   7D3  \n",
      "YEAR                                                          \n",
      "2008    1071  1501  1228  1796  1264  1625  1165  1487  1297  \n",
      "2009    1026  1344  1123  1524  1182  1327  1183  1364  1238  \n",
      "2010    1049  1467  1155  1647  1095  1488  1227  1564  1296  \n",
      "2011    1082  1612  1275  1650  1211  1440  1365  1461  1049  \n",
      "2012    1308  1696  1543  1608  1507  1523  1526  1336  1050  \n",
      "2013    1153  1819  1600  1757  1442  1726  1457  1425  1063  \n",
      "2014    1384  2066  1737  2022  1525  1913  1323  1317   927  \n",
      "2015    1343  2099  1618  1726  1301  1744  1392  1284   905  \n",
      "2016    1349  1886  1574  1666  1324  1602  1238  1261   927  \n",
      "2017    1248  1974  1607  1773  1320  1472  1084  1111   797  \n",
      "2018    1527  1937  1452  1552  1417  1471   986   987   661  \n",
      "2019    1550  2041  1555  1498  1389  1195   803   781   683  \n",
      "2020    1388  1629  1394  1432  1225  1302   894   776   656  \n",
      "2021     303   336   248   271   262   256   185   153   134  \n",
      "\n",
      "[14 rows x 21 columns]\n"
     ]
    },
    {
     "data": {
      "text/plain": [
       "<AxesSubplot:xlabel='sector', ylabel='YEAR'>"
      ]
     },
     "execution_count": 21,
     "metadata": {},
     "output_type": "execute_result"
    },
    {
     "data": {
      "image/png": "[encoded data removed]",
      "text/plain": [
       "<Figure size 432x288 with 2 Axes>"
      ]
     },
     "metadata": {
      "needs_background": "light"
     },
     "output_type": "display_data"
    }
   ],
   "source": [
    "#同理，观察sector不同，year 不同和犯罪数量的关系\n",
    "data_year_sector_count=pd.DataFrame(raw_data[['YEAR','sector','OFFENSE']])\n",
    "data_year_sector_count=pd.DataFrame(data_year_sector_count.groupby(['YEAR','sector'],as_index=False)['OFFENSE'].size())\n",
    "data_year_sector_count['YEAR']=data_year_sector_count['YEAR'].astype(int)\n",
    "\n",
    "data_year_sector_count=data_year_sector_count.pivot('YEAR','sector','size')\n",
    "print (data_year_sector_count)\n",
    "sns.heatmap(data_year_sector_count,linewidths=0.5)"
   ]
  },
  {
   "cell_type": "code",
   "execution_count": 22,
   "metadata": {},
   "outputs": [
    {
     "name": "stdout",
     "output_type": "stream",
     "text": [
      "   REPORT_DAT  WARD  size\n",
      "0          01   1.0  5032\n",
      "1          01   2.0  6858\n",
      "2          01   3.0  2039\n",
      "3          01   4.0  3456\n",
      "4          01   5.0  5177\n",
      "..        ...   ...   ...\n",
      "91         12   4.0  3343\n",
      "92         12   5.0  5038\n",
      "93         12   6.0  5764\n",
      "94         12   7.0  4667\n",
      "95         12   8.0  4181\n",
      "\n",
      "[96 rows x 3 columns]\n",
      "WARD         1.0   2.0   3.0   4.0   5.0   6.0   7.0   8.0\n",
      "REPORT_DAT                                                \n",
      "1           5032  6858  2039  3456  5177  5692  4583  4126\n",
      "2           4396  5886  1868  2854  4098  4600  3666  3371\n",
      "3           4896  6552  1971  2968  4705  4994  4096  3794\n",
      "4           4703  5966  1840  3133  4680  4938  4099  3960\n",
      "5           5399  6667  2104  3606  5144  5711  4876  4511\n",
      "6           5666  6991  2214  3494  5101  6345  4826  4354\n",
      "7           5764  7172  2082  3626  5545  6742  5109  4600\n",
      "8           5609  7436  2111  3702  5598  6726  5010  4639\n",
      "9           5598  7045  2078  3616  5469  6585  4886  4398\n",
      "10          5904  7296  2199  3718  5642  6773  5123  4646\n",
      "11          5449  6980  2007  3285  4872  5826  4541  4232\n",
      "12          5005  6868  1907  3343  5038  5764  4667  4181\n"
     ]
    },
    {
     "data": {
      "text/plain": [
       "<AxesSubplot:xlabel='WARD', ylabel='REPORT_DAT'>"
      ]
     },
     "execution_count": 22,
     "metadata": {},
     "output_type": "execute_result"
    },
    {
     "data": {
      "image/png": "[encoded data removed]",
      "text/plain": [
       "<Figure size 432x288 with 2 Axes>"
      ]
     },
     "metadata": {
      "needs_background": "light"
     },
     "output_type": "display_data"
    }
   ],
   "source": [
    "#month 案件报道时间的热力图关系绘制\n",
    "data_month_ward_count=pd.DataFrame(raw_data[['REPORT_DAT','WARD','OFFENSE']])\n",
    "data_month_ward_count['REPORT_DAT']=data_month_ward_count['REPORT_DAT'].str[5:7]\n",
    "\n",
    "\n",
    "data_month_ward_count=pd.DataFrame(data_month_ward_count.groupby(['REPORT_DAT','WARD'],as_index=False)['OFFENSE'].size())\n",
    "print(data_month_ward_count)\n",
    "\n",
    "data_month_ward_count['REPORT_DAT']=data_month_ward_count['REPORT_DAT'].astype(int)\n",
    "\n",
    "data_month_ward_count=data_month_ward_count.pivot('REPORT_DAT','WARD','size')\n",
    "print (data_month_ward_count)\n",
    "sns.heatmap(data_month_ward_count,linewidths=0.5)"
   ]
  },
  {
   "cell_type": "code",
   "execution_count": 24,
   "metadata": {},
   "outputs": [
    {
     "name": "stdout",
     "output_type": "stream",
     "text": [
      "                                             BLOCK  size\n",
      "0                    0 - 0 block of 14th street sw     3\n",
      "1      0 - 0 block of arlington memorial bridge sw     2\n",
      "2                   0 - 0 block of chain bridge nw     1\n",
      "3             0 - 0 block of chevy chase circle nw    13\n",
      "4                0 - 0 block of columbus circle ne    19\n",
      "...                                            ...   ...\n",
      "17434            yuma street nw and 42nd street nw     1\n",
      "17435             yuma street se and 1st street se     1\n",
      "17436             yuma street se and 8th street se     5\n",
      "17437             yuma street se and 9th street se     3\n",
      "17438         yuma street se and condon terrace se     1\n",
      "\n",
      "[17439 rows x 2 columns]\n",
      "类别为0的数据\n",
      "                                              BLOCK  size\n",
      "0                    0 - 0 block of 14th street sw     3\n",
      "1      0 - 0 block of arlington memorial bridge sw     2\n",
      "2                   0 - 0 block of chain bridge nw     1\n",
      "3             0 - 0 block of chevy chase circle nw    13\n",
      "4                0 - 0 block of columbus circle ne    19\n",
      "...                                            ...   ...\n",
      "16010            yuma street nw and 42nd street nw     1\n",
      "16011             yuma street se and 1st street se     1\n",
      "16012             yuma street se and 8th street se     5\n",
      "16013             yuma street se and 9th street se     3\n",
      "16014         yuma street se and condon terrace se     1\n",
      "\n",
      "[16015 rows x 2 columns]\n",
      "类别为1的数据\n",
      "                                       BLOCK  size\n",
      "0           1 - 149 block of 54th street se    84\n",
      "1     1 - 199 block of darrington street sw    98\n",
      "2              1 - 299 block of g street sw   179\n",
      "3         1 - 38 block of florida avenue ne   110\n",
      "4               1 - 60 block of k street nw   221\n",
      "...                                     ...   ...\n",
      "1277   901 - 999 block of brentwood road ne   262\n",
      "1278          h street nw and 7th street nw    89\n",
      "1279    irving street nw and 14th street nw   106\n",
      "1280         u street nw and 14th street nw    73\n",
      "1281          u street nw and 9th street nw    83\n",
      "\n",
      "[1282 rows x 2 columns]\n",
      "类别为2的数据\n",
      "                                        BLOCK  size\n",
      "0            1 - 7 block of dupont circle nw   375\n",
      "1                1 - 99 block of h street nw   800\n",
      "2    1 - 99 block of massachusetts avenue ne   750\n",
      "3        100 - 199 block of irving street nw   385\n",
      "4      100 - 379 block of michigan avenue ne   345\n",
      "..                                       ...   ...\n",
      "131        900 - 1199 block of 4th street sw   745\n",
      "132           900 - 931 block of u street nw   410\n",
      "133   900 - 999 block of bladensburg road ne   575\n",
      "134           900 - 999 block of f street nw   428\n",
      "135    934 - 1099 block of eastern avenue ne   610\n",
      "\n",
      "[136 rows x 2 columns]\n",
      "类别为3的数据\n",
      "                                         BLOCK  size\n",
      "0  1300 - 1699 block of connecticut avenue nw  1575\n",
      "1         3100 - 3299 block of 14th street nw  3151\n",
      "2            3200 - 3275 block of m street nw  1425\n",
      "3    5300 - 5399 block of wisconsin avenue nw  1384\n",
      "4            700 - 799 block of 7th street nw  1209\n",
      "5   900 - 999 block of rhode island avenue ne  1769\n",
      "                                               BLOCK   LATITUDE  LONGITUDE  \\\n",
      "0                     150 - 299 block of q street ne  38.911114 -77.003574   \n",
      "1            7600  - 7699 block of georgia avenue nw  38.982384 -77.026557   \n",
      "2                     600 - 699 block of k street nw  38.902518 -77.020913   \n",
      "3               5715 5739  block of blaine street ne  38.890943 -76.919601   \n",
      "4          4610 - 4659 block of south capitol street  38.822840 -77.003927   \n",
      "...                                              ...        ...        ...   \n",
      "448413         1815 - 1999 block of bryant street ne  38.921282 -76.977167   \n",
      "448414              1500 - 1599 block of p street nw  38.909640 -77.035546   \n",
      "448415        900 - 999 block of bladensburg road ne  38.902203 -76.982015   \n",
      "448416  1300 - 1399 block of west virginia avenue ne  38.905978 -76.990857   \n",
      "448417           300 - 399 block of oakdale place nw  38.917887 -77.017297   \n",
      "\n",
      "        flag  \n",
      "0          0  \n",
      "1          0  \n",
      "2          0  \n",
      "3          0  \n",
      "4          0  \n",
      "...      ...  \n",
      "448413     0  \n",
      "448414     0  \n",
      "448415     0  \n",
      "448416     0  \n",
      "448417     0  \n",
      "\n",
      "[448418 rows x 4 columns]\n",
      "150 - 299 block of q street ne\n",
      "7600  - 7699 block of georgia avenue nw\n"
     ]
    },
    {
     "ename": "KeyboardInterrupt",
     "evalue": "",
     "output_type": "error",
     "traceback": [
      "\u001b[1;31m---------------------------------------------------------------------------\u001b[0m",
      "\u001b[1;31mKeyboardInterrupt\u001b[0m                         Traceback (most recent call last)",
      "\u001b[1;32m<ipython-input-24-d1d087bfe9c1>\u001b[0m in \u001b[0;36m<module>\u001b[1;34m\u001b[0m\n\u001b[0;32m     53\u001b[0m          \u001b[1;32mcontinue\u001b[0m\u001b[1;33m\u001b[0m\u001b[1;33m\u001b[0m\u001b[0m\n\u001b[0;32m     54\u001b[0m     \u001b[1;32mif\u001b[0m \u001b[0mdeal_with\u001b[0m\u001b[1;33m.\u001b[0m\u001b[0mloc\u001b[0m\u001b[1;33m[\u001b[0m\u001b[0mi\u001b[0m\u001b[1;33m,\u001b[0m\u001b[1;34m'BLOCK'\u001b[0m\u001b[1;33m]\u001b[0m \u001b[1;32min\u001b[0m \u001b[0mlei1\u001b[0m\u001b[1;33m:\u001b[0m\u001b[1;33m\u001b[0m\u001b[1;33m\u001b[0m\u001b[0m\n\u001b[1;32m---> 55\u001b[1;33m          \u001b[0mdeal_with\u001b[0m\u001b[1;33m[\u001b[0m\u001b[1;34m'flag'\u001b[0m\u001b[1;33m]\u001b[0m\u001b[1;33m=\u001b[0m\u001b[1;36m1\u001b[0m\u001b[1;33m\u001b[0m\u001b[1;33m\u001b[0m\u001b[0m\n\u001b[0m\u001b[0;32m     56\u001b[0m          \u001b[1;32mcontinue\u001b[0m\u001b[1;33m\u001b[0m\u001b[1;33m\u001b[0m\u001b[0m\n\u001b[0;32m     57\u001b[0m     \u001b[1;32mif\u001b[0m \u001b[0mdeal_with\u001b[0m\u001b[1;33m.\u001b[0m\u001b[0mloc\u001b[0m\u001b[1;33m[\u001b[0m\u001b[0mi\u001b[0m\u001b[1;33m,\u001b[0m\u001b[1;34m'BLOCK'\u001b[0m\u001b[1;33m]\u001b[0m \u001b[1;32min\u001b[0m \u001b[0mlei2\u001b[0m\u001b[1;33m:\u001b[0m\u001b[1;33m\u001b[0m\u001b[1;33m\u001b[0m\u001b[0m\n",
      "\u001b[1;32m~\\anaconda3\\lib\\site-packages\\pandas\\core\\frame.py\u001b[0m in \u001b[0;36m__setitem__\u001b[1;34m(self, key, value)\u001b[0m\n\u001b[0;32m   3038\u001b[0m         \u001b[1;32melse\u001b[0m\u001b[1;33m:\u001b[0m\u001b[1;33m\u001b[0m\u001b[1;33m\u001b[0m\u001b[0m\n\u001b[0;32m   3039\u001b[0m             \u001b[1;31m# set column\u001b[0m\u001b[1;33m\u001b[0m\u001b[1;33m\u001b[0m\u001b[1;33m\u001b[0m\u001b[0m\n\u001b[1;32m-> 3040\u001b[1;33m             \u001b[0mself\u001b[0m\u001b[1;33m.\u001b[0m\u001b[0m_set_item\u001b[0m\u001b[1;33m(\u001b[0m\u001b[0mkey\u001b[0m\u001b[1;33m,\u001b[0m \u001b[0mvalue\u001b[0m\u001b[1;33m)\u001b[0m\u001b[1;33m\u001b[0m\u001b[1;33m\u001b[0m\u001b[0m\n\u001b[0m\u001b[0;32m   3041\u001b[0m \u001b[1;33m\u001b[0m\u001b[0m\n\u001b[0;32m   3042\u001b[0m     \u001b[1;32mdef\u001b[0m \u001b[0m_setitem_slice\u001b[0m\u001b[1;33m(\u001b[0m\u001b[0mself\u001b[0m\u001b[1;33m,\u001b[0m \u001b[0mkey\u001b[0m\u001b[1;33m:\u001b[0m \u001b[0mslice\u001b[0m\u001b[1;33m,\u001b[0m \u001b[0mvalue\u001b[0m\u001b[1;33m)\u001b[0m\u001b[1;33m:\u001b[0m\u001b[1;33m\u001b[0m\u001b[1;33m\u001b[0m\u001b[0m\n",
      "\u001b[1;32m~\\anaconda3\\lib\\site-packages\\pandas\\core\\frame.py\u001b[0m in \u001b[0;36m_set_item\u001b[1;34m(self, key, value)\u001b[0m\n\u001b[0;32m   3114\u001b[0m         \"\"\"\n\u001b[0;32m   3115\u001b[0m         \u001b[0mself\u001b[0m\u001b[1;33m.\u001b[0m\u001b[0m_ensure_valid_index\u001b[0m\u001b[1;33m(\u001b[0m\u001b[0mvalue\u001b[0m\u001b[1;33m)\u001b[0m\u001b[1;33m\u001b[0m\u001b[1;33m\u001b[0m\u001b[0m\n\u001b[1;32m-> 3116\u001b[1;33m         \u001b[0mvalue\u001b[0m \u001b[1;33m=\u001b[0m \u001b[0mself\u001b[0m\u001b[1;33m.\u001b[0m\u001b[0m_sanitize_column\u001b[0m\u001b[1;33m(\u001b[0m\u001b[0mkey\u001b[0m\u001b[1;33m,\u001b[0m \u001b[0mvalue\u001b[0m\u001b[1;33m)\u001b[0m\u001b[1;33m\u001b[0m\u001b[1;33m\u001b[0m\u001b[0m\n\u001b[0m\u001b[0;32m   3117\u001b[0m         \u001b[0mNDFrame\u001b[0m\u001b[1;33m.\u001b[0m\u001b[0m_set_item\u001b[0m\u001b[1;33m(\u001b[0m\u001b[0mself\u001b[0m\u001b[1;33m,\u001b[0m \u001b[0mkey\u001b[0m\u001b[1;33m,\u001b[0m \u001b[0mvalue\u001b[0m\u001b[1;33m)\u001b[0m\u001b[1;33m\u001b[0m\u001b[1;33m\u001b[0m\u001b[0m\n\u001b[0;32m   3118\u001b[0m \u001b[1;33m\u001b[0m\u001b[0m\n",
      "\u001b[1;32m~\\anaconda3\\lib\\site-packages\\pandas\\core\\frame.py\u001b[0m in \u001b[0;36m_sanitize_column\u001b[1;34m(self, key, value, broadcast)\u001b[0m\n\u001b[0;32m   3789\u001b[0m                 )\n\u001b[0;32m   3790\u001b[0m             \u001b[1;32melse\u001b[0m\u001b[1;33m:\u001b[0m\u001b[1;33m\u001b[0m\u001b[1;33m\u001b[0m\u001b[0m\n\u001b[1;32m-> 3791\u001b[1;33m                 \u001b[0mvalue\u001b[0m \u001b[1;33m=\u001b[0m \u001b[0mcast_scalar_to_array\u001b[0m\u001b[1;33m(\u001b[0m\u001b[0mlen\u001b[0m\u001b[1;33m(\u001b[0m\u001b[0mself\u001b[0m\u001b[1;33m.\u001b[0m\u001b[0mindex\u001b[0m\u001b[1;33m)\u001b[0m\u001b[1;33m,\u001b[0m \u001b[0mvalue\u001b[0m\u001b[1;33m)\u001b[0m\u001b[1;33m\u001b[0m\u001b[1;33m\u001b[0m\u001b[0m\n\u001b[0m\u001b[0;32m   3792\u001b[0m \u001b[1;33m\u001b[0m\u001b[0m\n\u001b[0;32m   3793\u001b[0m             \u001b[0mvalue\u001b[0m \u001b[1;33m=\u001b[0m \u001b[0mmaybe_cast_to_datetime\u001b[0m\u001b[1;33m(\u001b[0m\u001b[0mvalue\u001b[0m\u001b[1;33m,\u001b[0m \u001b[0minfer_dtype\u001b[0m\u001b[1;33m)\u001b[0m\u001b[1;33m\u001b[0m\u001b[1;33m\u001b[0m\u001b[0m\n",
      "\u001b[1;32m~\\anaconda3\\lib\\site-packages\\pandas\\core\\dtypes\\cast.py\u001b[0m in \u001b[0;36mcast_scalar_to_array\u001b[1;34m(shape, value, dtype)\u001b[0m\n\u001b[0;32m   1521\u001b[0m \u001b[1;33m\u001b[0m\u001b[0m\n\u001b[0;32m   1522\u001b[0m     \u001b[0mvalues\u001b[0m \u001b[1;33m=\u001b[0m \u001b[0mnp\u001b[0m\u001b[1;33m.\u001b[0m\u001b[0mempty\u001b[0m\u001b[1;33m(\u001b[0m\u001b[0mshape\u001b[0m\u001b[1;33m,\u001b[0m \u001b[0mdtype\u001b[0m\u001b[1;33m=\u001b[0m\u001b[0mdtype\u001b[0m\u001b[1;33m)\u001b[0m\u001b[1;33m\u001b[0m\u001b[1;33m\u001b[0m\u001b[0m\n\u001b[1;32m-> 1523\u001b[1;33m     \u001b[0mvalues\u001b[0m\u001b[1;33m.\u001b[0m\u001b[0mfill\u001b[0m\u001b[1;33m(\u001b[0m\u001b[0mfill_value\u001b[0m\u001b[1;33m)\u001b[0m\u001b[1;33m\u001b[0m\u001b[1;33m\u001b[0m\u001b[0m\n\u001b[0m\u001b[0;32m   1524\u001b[0m \u001b[1;33m\u001b[0m\u001b[0m\n\u001b[0;32m   1525\u001b[0m     \u001b[1;32mreturn\u001b[0m \u001b[0mvalues\u001b[0m\u001b[1;33m\u001b[0m\u001b[1;33m\u001b[0m\u001b[0m\n",
      "\u001b[1;31mKeyboardInterrupt\u001b[0m: "
     ]
    }
   ],
   "source": [
    "#采用kmeans分类方法对block 进行聚类\n",
    "data_block_count=pd.DataFrame(raw_data[['BLOCK','OFFENSE']])\n",
    "data_block_count=pd.DataFrame(data_block_count.groupby(['BLOCK'],as_index=False)['OFFENSE'].size())\n",
    "print(data_block_count)\n",
    "\n",
    "from sklearn.cluster import KMeans\n",
    "kmeans2=KMeans(n_clusters=4,random_state=9)\n",
    "\n",
    "y_pred = kmeans2.fit_predict(data_block_count.values[:,1].reshape(-1,1))\n",
    "# print(y_pred)\n",
    "\n",
    "res0Series = pd.Series(kmeans2.labels_)\n",
    "res0 = res0Series[res0Series.values == 0]\n",
    "result_0=data_block_count.iloc[res0.index]\n",
    "result_0.reset_index(inplace=True,drop=True)\n",
    "print(\"类别为0的数据\\n\",(result_0))\n",
    "\n",
    "res1Series = pd.Series(kmeans2.labels_)\n",
    "res1 = res0Series[res1Series.values == 1]\n",
    "result_1=data_block_count.iloc[res1.index]\n",
    "result_1.reset_index(inplace=True,drop=True)\n",
    "print(\"类别为1的数据\\n\",(result_1))\n",
    "\n",
    "res2Series = pd.Series(kmeans2.labels_)\n",
    "res2 = res0Series[res2Series.values == 2]\n",
    "result_2=data_block_count.iloc[res2.index]\n",
    "result_2.reset_index(inplace=True,drop=True)\n",
    "print(\"类别为2的数据\\n\",(result_2))\n",
    "\n",
    "res3Series = pd.Series(kmeans2.labels_)\n",
    "res3 = res0Series[res3Series.values == 3]\n",
    "result_3=data_block_count.iloc[res3.index]\n",
    "result_3.reset_index(inplace=True,drop=True)\n",
    "print(\"类别为3的数据\\n\",(result_3))\n",
    "from sklearn import metrics\n",
    "\n",
    "deal_with=pd.DataFrame(raw_data[['BLOCK','LATITUDE','LONGITUDE']])\n",
    "deal_with['flag']=0\n",
    "deal_with['flag']=deal_with['flag'].astype(int)\n",
    "print(deal_with)\n",
    "lei0=result_0['BLOCK'].values.tolist()\n",
    "lei1=result_1['BLOCK'].values.tolist()\n",
    "lei2=result_2['BLOCK'].values.tolist()\n",
    "lei3=result_3['BLOCK'].values.tolist()\n",
    "\n",
    "# print(lei0)\n",
    "deal_with.reset_index(inplace=True,drop=True)\n",
    "\n",
    "print(deal_with.loc[0,'BLOCK'])\n",
    "print(deal_with.loc[1,'BLOCK'])\n",
    "for i in range(deal_with.shape[0]):\n",
    "    if deal_with.loc[i,'BLOCK'] in lei0:\n",
    "         deal_with['flag']=0\n",
    "         continue\n",
    "    if deal_with.loc[i,'BLOCK'] in lei1:\n",
    "         deal_with['flag']=1\n",
    "         continue\n",
    "    if deal_with.loc[i,'BLOCK'] in lei2:\n",
    "         deal_with['flag']=2\n",
    "         continue\n",
    "    if deal_with.loc[i,'BLOCK'] in lei3:\n",
    "         deal_with['flag']=3\n",
    "         continue\n",
    "        \n",
    "        \n"
   ]
  },
  {
   "cell_type": "code",
   "execution_count": null,
   "metadata": {},
   "outputs": [],
   "source": [
    "#one -hot 编码作案手段\n",
    "OFFENSE_dummies=pd.get_dummies(raw_data[\"OFFENSE\"],prefix=\"OFFENSE\")\n",
    "OFFENSE_dummies.head(10)\n",
    "raw_data=pd.concat([raw_data,OFFENSE_dummies],axis=1)\n",
    "print(raw_data)"
   ]
  },
  {
   "cell_type": "code",
   "execution_count": null,
   "metadata": {},
   "outputs": [],
   "source": [
    "\n",
    "data_xblock_count=pd.DataFrame(raw_data[['XBLOCK','OFFENSE']])\n",
    "data_xblock_count=pd.DataFrame(data_xblock_count.groupby(['XBLOCK'],as_index=False)['OFFENSE'].size())\n",
    "#data_xblock_count['XBLOCK']=data_xblock_count['XBLOCK'].astype(int)\n",
    "# data_xblock_count['YBLOCK']=data_xblock_count['YBLOCK'].astype(int)\n",
    "data_xblock_count"
   ]
  },
  {
   "cell_type": "code",
   "execution_count": 39,
   "metadata": {
    "scrolled": true
   },
   "outputs": [
    {
     "name": "stdout",
     "output_type": "stream",
     "text": [
      "0.6838050250369521\n",
      "2\n"
     ]
    },
    {
     "data": {
      "image/png": "[encoded data removed]",
      "text/plain": [
       "<Figure size 432x288 with 1 Axes>"
      ]
     },
     "metadata": {
      "needs_background": "light"
     },
     "output_type": "display_data"
    },
    {
     "name": "stdout",
     "output_type": "stream",
     "text": [
      "        XBLOCK  size  y_pred\n",
      "0     390103.0     1       0\n",
      "1     390147.0     6       0\n",
      "2     390151.0     1       0\n",
      "3     390224.0     1       0\n",
      "4     390262.0    14       0\n",
      "...        ...   ...     ...\n",
      "7638  407727.0    82       0\n",
      "7639  407736.0    18       0\n",
      "7640  407760.0     1       0\n",
      "7641  407795.0    22       0\n",
      "7642  407806.0    21       0\n",
      "\n",
      "[7643 rows x 3 columns]\n"
     ]
    }
   ],
   "source": [
    "\n",
    "from sklearn import metrics\n",
    "data_show_julei=pd.DataFrame(raw_data[['LATITUDE','LONGITUDE','XBLOCK']])\n",
    "data_show_julei['flag']=0\n",
    "from sklearn.cluster import KMeans\n",
    "score=0\n",
    "cluster_temp=0\n",
    "for i in range(2,10):\n",
    "    kmeans=KMeans(n_clusters=i,random_state=9)\n",
    "# y_pred = kmeans.fit_predict( data_xblock_count.values[:,1].reshape(-1,1))\n",
    "    y_pred = kmeans.fit_predict(data_xblock_count.values[:,1].reshape(-1,1))\n",
    "    a=metrics.silhouette_score(data_xblock_count.values[:,1].reshape(-1,1), y_pred)\n",
    "    if a >score:\n",
    "        score=a\n",
    "        cluster_temp=i\n",
    "\n",
    "print(a)\n",
    "print(cluster_temp)\n",
    "#所以结果最好是分成两类 \n",
    "# plt.scatter(data_xblock_count.values[:,0], data_xblock_count.values[:,1], c=y_pred)\n",
    "# plt.show()\n",
    "from sklearn import metrics\n",
    "from sklearn.cluster import KMeans\n",
    "kmeans=KMeans(n_clusters=cluster_temp,random_state=9)\n",
    "y_pred = kmeans.fit_predict(data_xblock_count.values[:,1].reshape(-1,1))\n",
    "plt.scatter(data_xblock_count.values[:,0], data_xblock_count.values[:,1], c=y_pred)\n",
    "plt.show()\n",
    "\n",
    "data_xblock_count['y_pred']=y_pred\n",
    "print(data_xblock_count)\n",
    "\n",
    "# res0Series = pd.Series(kmeans.labels_)\n",
    "# res0 = res0Series[res0Series.values == 0]\n",
    "# result_0=data_xblock_count.iloc[res0.index]\n",
    "# result_0.reset_index(inplace=True,drop=True)\n",
    "# print(\"类别为0的数据\\n\",(data_xblock_count.iloc[res0.index]))\n",
    "\n",
    "# res1Series = pd.Series(kmeans.labels_)\n",
    "# res1 = res1Series[res1Series.values == 1]\n",
    "# result_1=data_xblock_count.iloc[res1.index]\n",
    "# result_1.reset_index(inplace=True,drop=True)\n",
    "# print(\"类别为1的数据\\n\",(data_xblock_count.iloc[res1.index]))\n",
    "\n",
    "# res2Series = pd.Series(kmeans.labels_)\n",
    "# res2 = res2Series[res2Series.values == 2]\n",
    "# result_2=data_xblock_count.iloc[res2.index]\n",
    "# result_2.reset_index(inplace=True,drop=True)\n",
    "# print(\"类别为2的数据\\n\",(data_xblock_count.iloc[res2.index]))\n",
    "\n",
    "# res3Series = pd.Series(kmeans.labels_)\n",
    "# res3 = res3Series[res3Series.values == 3]\n",
    "# result_3=data_xblock_count.iloc[res3.index]\n",
    "# result_3.reset_index(inplace=True,drop=True)\n",
    "# print(\"类别为3的数据\\n\",(data_xblock_count.iloc[res3.index]))"
   ]
  },
  {
   "cell_type": "code",
   "execution_count": 43,
   "metadata": {},
   "outputs": [
    {
     "name": "stdout",
     "output_type": "stream",
     "text": [
      "类别为0的数据\n",
      "         XBLOCK  size  y_pred\n",
      "0     390103.0     1       0\n",
      "1     390147.0     6       0\n",
      "2     390151.0     1       0\n",
      "3     390224.0     1       0\n",
      "4     390262.0    14       0\n",
      "...        ...   ...     ...\n",
      "7638  407727.0    82       0\n",
      "7639  407736.0    18       0\n",
      "7640  407760.0     1       0\n",
      "7641  407795.0    22       0\n",
      "7642  407806.0    21       0\n",
      "\n",
      "[7530 rows x 3 columns]\n",
      "类别为1的数据\n",
      "         XBLOCK  size  y_pred\n",
      "417   392607.0  1384       1\n",
      "1213  394449.0  1425       1\n",
      "1300  394622.0   656       1\n",
      "1895  396029.0   923       1\n",
      "1990  396217.0  1349       1\n",
      "...        ...   ...     ...\n",
      "6749  404579.0   630       1\n",
      "6752  404600.0   712       1\n",
      "6904  405127.0   709       1\n",
      "7299  406139.0   562       1\n",
      "7492  406683.0   610       1\n",
      "\n",
      "[113 rows x 3 columns]\n"
     ]
    }
   ],
   "source": [
    "res0Series = pd.Series(kmeans.labels_)\n",
    "res0 = res0Series[res0Series.values == 0]\n",
    "result_0=data_xblock_count.iloc[res0.index]\n",
    "result_0.reset_index(inplace=True,drop=True)\n",
    "print(\"类别为0的数据\\n\",(data_xblock_count.iloc[res0.index]))\n",
    "\n",
    "res1Series = pd.Series(kmeans.labels_)\n",
    "res1 = res1Series[res1Series.values == 1]\n",
    "result_1=data_xblock_count.iloc[res1.index]\n",
    "result_1.reset_index(inplace=True,drop=True)\n",
    "print(\"类别为1的数据\\n\",(data_xblock_count.iloc[res1.index]))\n",
    "\n",
    "# res2Series = pd.Series(kmeans.labels_)\n",
    "# res2 = res2Series[res2Series.values == 2]\n",
    "# result_2=data_xblock_count.iloc[res2.index]\n",
    "# result_2.reset_index(inplace=True,drop=True)\n",
    "# print(\"类别为2的数据\\n\",(data_xblock_count.iloc[res2.index]))\n",
    "\n",
    "# res3Series = pd.Series(kmeans.labels_)\n",
    "# res3 = res3Series[res3Series.values == 3]\n",
    "# result_3=data_xblock_count.iloc[res3.index]\n",
    "# result_3.reset_index(inplace=True,drop=True)\n",
    "# print(\"类别为3的数据\\n\",(data_xblock_count.iloc[res3.index]))"
   ]
  },
  {
   "cell_type": "code",
   "execution_count": 40,
   "metadata": {},
   "outputs": [],
   "source": [
    "# 0 是很少， 1 是最多， 2是第二多， 3是第三多,  如果是分成4类的话\n",
    "lll=data_xblock_count.shape[0]\n",
    "for i in range(lll):\n",
    "    #data_show_julei[data_show_julei['XBLOCK']==data_xblock_count.loc[i,'XBLOCK']]['flag']=data_xblock_count.loc[i,'y_pred']\n",
    "     data_show_julei.loc[data_show_julei['XBLOCK']==data_xblock_count.loc[i,'XBLOCK'],'flag']=data_xblock_count.loc[i,'y_pred']"
   ]
  },
  {
   "cell_type": "code",
   "execution_count": 41,
   "metadata": {},
   "outputs": [
    {
     "data": {
      "text/html": [
       "<div>\n",
       "<style scoped>\n",
       "    .dataframe tbody tr th:only-of-type {\n",
       "        vertical-align: middle;\n",
       "    }\n",
       "\n",
       "    .dataframe tbody tr th {\n",
       "        vertical-align: top;\n",
       "    }\n",
       "\n",
       "    .dataframe thead th {\n",
       "        text-align: right;\n",
       "    }\n",
       "</style>\n",
       "<table border=\"1\" class=\"dataframe\">\n",
       "  <thead>\n",
       "    <tr style=\"text-align: right;\">\n",
       "      <th></th>\n",
       "      <th>LATITUDE</th>\n",
       "      <th>LONGITUDE</th>\n",
       "      <th>XBLOCK</th>\n",
       "      <th>flag</th>\n",
       "    </tr>\n",
       "  </thead>\n",
       "  <tbody>\n",
       "    <tr>\n",
       "      <th>0</th>\n",
       "      <td>38.911114</td>\n",
       "      <td>-77.003574</td>\n",
       "      <td>399690.0</td>\n",
       "      <td>0</td>\n",
       "    </tr>\n",
       "    <tr>\n",
       "      <th>1</th>\n",
       "      <td>38.982384</td>\n",
       "      <td>-77.026557</td>\n",
       "      <td>397699.0</td>\n",
       "      <td>0</td>\n",
       "    </tr>\n",
       "    <tr>\n",
       "      <th>2</th>\n",
       "      <td>38.902518</td>\n",
       "      <td>-77.020913</td>\n",
       "      <td>398186.0</td>\n",
       "      <td>1</td>\n",
       "    </tr>\n",
       "    <tr>\n",
       "      <th>3</th>\n",
       "      <td>38.890943</td>\n",
       "      <td>-76.919601</td>\n",
       "      <td>406975.0</td>\n",
       "      <td>0</td>\n",
       "    </tr>\n",
       "    <tr>\n",
       "      <th>4</th>\n",
       "      <td>38.822840</td>\n",
       "      <td>-77.003927</td>\n",
       "      <td>399659.0</td>\n",
       "      <td>0</td>\n",
       "    </tr>\n",
       "    <tr>\n",
       "      <th>...</th>\n",
       "      <td>...</td>\n",
       "      <td>...</td>\n",
       "      <td>...</td>\n",
       "      <td>...</td>\n",
       "    </tr>\n",
       "    <tr>\n",
       "      <th>448413</th>\n",
       "      <td>38.921282</td>\n",
       "      <td>-76.977167</td>\n",
       "      <td>401980.0</td>\n",
       "      <td>0</td>\n",
       "    </tr>\n",
       "    <tr>\n",
       "      <th>448414</th>\n",
       "      <td>38.909640</td>\n",
       "      <td>-77.035546</td>\n",
       "      <td>396917.0</td>\n",
       "      <td>0</td>\n",
       "    </tr>\n",
       "    <tr>\n",
       "      <th>448415</th>\n",
       "      <td>38.902203</td>\n",
       "      <td>-76.982015</td>\n",
       "      <td>401560.0</td>\n",
       "      <td>1</td>\n",
       "    </tr>\n",
       "    <tr>\n",
       "      <th>448416</th>\n",
       "      <td>38.905978</td>\n",
       "      <td>-76.990857</td>\n",
       "      <td>400793.0</td>\n",
       "      <td>0</td>\n",
       "    </tr>\n",
       "    <tr>\n",
       "      <th>448417</th>\n",
       "      <td>38.917887</td>\n",
       "      <td>-77.017297</td>\n",
       "      <td>398500.0</td>\n",
       "      <td>0</td>\n",
       "    </tr>\n",
       "  </tbody>\n",
       "</table>\n",
       "<p>448418 rows × 4 columns</p>\n",
       "</div>"
      ],
      "text/plain": [
       "         LATITUDE  LONGITUDE    XBLOCK  flag\n",
       "0       38.911114 -77.003574  399690.0     0\n",
       "1       38.982384 -77.026557  397699.0     0\n",
       "2       38.902518 -77.020913  398186.0     1\n",
       "3       38.890943 -76.919601  406975.0     0\n",
       "4       38.822840 -77.003927  399659.0     0\n",
       "...           ...        ...       ...   ...\n",
       "448413  38.921282 -76.977167  401980.0     0\n",
       "448414  38.909640 -77.035546  396917.0     0\n",
       "448415  38.902203 -76.982015  401560.0     1\n",
       "448416  38.905978 -76.990857  400793.0     0\n",
       "448417  38.917887 -77.017297  398500.0     0\n",
       "\n",
       "[448418 rows x 4 columns]"
      ]
     },
     "execution_count": 41,
     "metadata": {},
     "output_type": "execute_result"
    }
   ],
   "source": [
    "data_show_julei"
   ]
  },
  {
   "cell_type": "code",
   "execution_count": 42,
   "metadata": {},
   "outputs": [
    {
     "data": {
      "image/png": "[encoded data removed]",
      "text/plain": [
       "<Figure size 432x288 with 1 Axes>"
      ]
     },
     "metadata": {
      "needs_background": "light"
     },
     "output_type": "display_data"
    },
    {
     "data": {
      "image/png": "[encoded data removed]",
      "text/plain": [
       "<Figure size 1512x1008 with 1 Axes>"
      ]
     },
     "metadata": {
      "needs_background": "light"
     },
     "output_type": "display_data"
    }
   ],
   "source": [
    "# 0 是犯罪很少  蓝色， 1 是最多  粉色， 2是第二多 绿黄色 ， 3是第三多  红色\n",
    "# 分成两类的结果：   1 粉色是重灾区，  0是蓝色\n",
    "plt.xlabel('LONGITUDE')\n",
    "plt.ylabel('LATITUDE')\n",
    "plt.figure(figsize=(21,14))\n",
    "#,'#00FF00','#FF0000'\n",
    "colors=['#0000FF','#FFC0CB']\n",
    "for i in range(2):\n",
    "    a=data_show_julei[data_show_julei['flag']==i]\n",
    "    data1=a['LONGITUDE']\n",
    "    data2=a['LATITUDE']\n",
    "    plt.scatter(data1,data2,c=colors[i])\n",
    "plt.show()\n",
    "#"
   ]
  },
  {
   "cell_type": "code",
   "execution_count": 6,
   "metadata": {},
   "outputs": [],
   "source": [
    "#对block 进行预测：\n",
    "\n",
    "data_block_count=pd.DataFrame(raw_data[['BLOCK','OFFENSE']])\n",
    "data_block_count=pd.DataFrame(data_block_count.groupby(['BLOCK'],as_index=False)['OFFENSE'].size())\n",
    "#data_xblock_count['XBLOCK']=data_xblock_count['XBLOCK'].astype(int)\n",
    "# data_xblock_count['YBLOCK']=data_xblock_count['YBLOCK'].astype(int)\n",
    "data_block_count\n",
    "from sklearn import metrics\n",
    "data_show_block=pd.DataFrame(raw_data[['LATITUDE','LONGITUDE','BLOCK']])\n",
    "data_show_block['flag']=0\n"
   ]
  },
  {
   "cell_type": "code",
   "execution_count": 7,
   "metadata": {},
   "outputs": [
    {
     "name": "stdout",
     "output_type": "stream",
     "text": [
      "0.6866753962529378\n",
      "2\n"
     ]
    }
   ],
   "source": [
    "\n",
    "from sklearn.cluster import KMeans\n",
    "score=0\n",
    "cluster_temp=0\n",
    "for i in range(2,10):\n",
    "    kmeans=KMeans(n_clusters=i,random_state=9)\n",
    "# y_pred = kmeans.fit_predict( data_xblock_count.values[:,1].reshape(-1,1))\n",
    "    y_pred = kmeans.fit_predict(data_block_count.values[:,1].reshape(-1,1))\n",
    "    a=metrics.silhouette_score(data_block_count.values[:,1].reshape(-1,1), y_pred)\n",
    "    if a >score:\n",
    "        score=a\n",
    "        cluster_temp=i\n",
    "\n",
    "print(a)\n",
    "print(cluster_temp)\n",
    "#所以结果最好是分成两类 \n",
    "# plt.scatter(data_xblock_count.values[:,0], data_xblock_count.values[:,1], c=y_pred)\n",
    "# plt.show()\n"
   ]
  },
  {
   "cell_type": "code",
   "execution_count": 8,
   "metadata": {},
   "outputs": [
    {
     "data": {
      "image/png": "[encoded data removed]",
      "text/plain": [
       "<Figure size 432x288 with 1 Axes>"
      ]
     },
     "metadata": {
      "needs_background": "light"
     },
     "output_type": "display_data"
    },
    {
     "name": "stdout",
     "output_type": "stream",
     "text": [
      "                                             BLOCK  size  y_pred\n",
      "0                    0 - 0 block of 14th street sw     3       1\n",
      "1      0 - 0 block of arlington memorial bridge sw     2       1\n",
      "2                   0 - 0 block of chain bridge nw     1       1\n",
      "3             0 - 0 block of chevy chase circle nw    13       1\n",
      "4                0 - 0 block of columbus circle ne    19       1\n",
      "...                                            ...   ...     ...\n",
      "17434            yuma street nw and 42nd street nw     1       1\n",
      "17435             yuma street se and 1st street se     1       1\n",
      "17436             yuma street se and 8th street se     5       1\n",
      "17437             yuma street se and 9th street se     3       1\n",
      "17438         yuma street se and condon terrace se     1       1\n",
      "\n",
      "[17439 rows x 3 columns]\n"
     ]
    }
   ],
   "source": [
    "kmeans=KMeans(n_clusters=cluster_temp,random_state=9)\n",
    "y_pred = kmeans.fit_predict(data_block_count.values[:,1].reshape(-1,1))\n",
    "plt.scatter(data_block_count.va###Task3-Part2###lues[:,0], data_block_count.values[:,1], c=y_pred)\n",
    "plt.show()\n",
    "\n",
    "data_block_count['y_pred']=y_pred\n",
    "print(data_block_count)"
   ]
  }
 ],
 "metadata": {
  "kernelspec": {
   "display_name": "Python 3",
   "language": "python",
   "name": "python3"
  },
  "language_info": {
   "codemirror_mode": {
    "name": "ipython",
    "version": 3
   },
   "file_extension": ".py",
   "mimetype": "text/x-python",
   "name": "python",
   "nbconvert_exporter": "python",
   "pygments_lexer": "ipython3",
   "version": "3.8.5"
  }
 },
 "nbformat": 4,
 "nbformat_minor": 4
}
