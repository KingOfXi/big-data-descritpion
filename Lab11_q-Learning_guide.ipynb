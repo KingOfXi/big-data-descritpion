{
 "cells": [
  {
   "cell_type": "markdown",
   "metadata": {},
   "source": [
    "# Q-Learning"
   ]
  },
  {
   "cell_type": "markdown",
   "metadata": {},
   "source": [
    "In this homework, you should complete the Q-learning algorithm for the environment gym taxi"
   ]
  },
  {
   "cell_type": "code",
   "execution_count": 1,
   "metadata": {},
   "outputs": [],
   "source": [
    "import gym\n",
    "import numpy as np\n",
    "import random\n",
    "\n"
   ]
  },
  {
   "cell_type": "markdown",
   "metadata": {},
   "source": [
    "## Step 1 Create the environment\n",
    "Using the API imported from gym"
   ]
  },
  {
   "cell_type": "code",
   "execution_count": 2,
   "metadata": {},
   "outputs": [
    {
     "name": "stdout",
     "output_type": "stream",
     "text": [
      "+---------+\n",
      "|\u001b[34;1mR\u001b[0m: | : :G|\n",
      "| : | : :\u001b[43m \u001b[0m|\n",
      "| : : : : |\n",
      "| | : | : |\n",
      "|\u001b[35mY\u001b[0m| : |B: |\n",
      "+---------+\n",
      "\n"
     ]
    }
   ],
   "source": [
    "env = gym.make('Taxi-v3')\n",
    "env.render()"
   ]
  },
  {
   "cell_type": "markdown",
   "metadata": {},
   "source": [
    "## Step 2  Create the Q-table and initialize it"
   ]
  },
  {
   "cell_type": "markdown",
   "metadata": {},
   "source": [
    "You can use the gym api to fetch the dimension of action space and state space"
   ]
  },
  {
   "cell_type": "code",
   "execution_count": 3,
   "metadata": {},
   "outputs": [
    {
     "name": "stdout",
     "output_type": "stream",
     "text": [
      "[[0. 0. 0. 0. 0. 0.]\n",
      " [0. 0. 0. 0. 0. 0.]\n",
      " [0. 0. 0. 0. 0. 0.]\n",
      " ...\n",
      " [0. 0. 0. 0. 0. 0.]\n",
      " [0. 0. 0. 0. 0. 0.]\n",
      " [0. 0. 0. 0. 0. 0.]]\n"
     ]
    }
   ],
   "source": [
    "action_space = env.action_space\n",
    "state_space = env.observation_space\n",
    "\n",
    "# Please complete this initialization in this line\n",
    "Q_table = np.zeros((state_space.n, action_space.n))\n",
    "\n",
    "print(Q_table)"
   ]
  },
  {
   "cell_type": "markdown",
   "metadata": {},
   "source": [
    "## Step 3 Configure the hyperparameters"
   ]
  },
  {
   "cell_type": "code",
   "execution_count": 17,
   "metadata": {},
   "outputs": [],
   "source": [
    "total_episodes = 50000\n",
    "total_test_episodes = 100\n",
    "learning_rate= 0.7\n",
    "max_steps = 99\n",
    "\n",
    "# discount rate\n",
    "gamma= 0.618\n",
    "\n",
    "# Create the hyperparameters\n",
    "sample_rewards = []"
   ]
  },
  {
   "cell_type": "markdown",
   "metadata": {},
   "source": [
    "## Step 4 Q Learning algorithm"
   ]
  },
  {
   "cell_type": "markdown",
   "metadata": {},
   "source": [
    "Note: The formula of Q table update(Bellman equation)\n",
    "    ![Bellman equation](https://raw.githubusercontent.com/hanruihua/NoteBook/master/AI-Note/equation.png)"
   ]
  },
  {
   "cell_type": "code",
   "execution_count": 18,
   "metadata": {},
   "outputs": [
    {
     "name": "stdout",
     "output_type": "stream",
     "text": [
      "average reward:0: 5.0\n",
      "average reward:1000: 7.959\n",
      "average reward:2000: 7.942\n",
      "average reward:3000: 7.941\n",
      "average reward:4000: 8.016\n",
      "average reward:5000: 8.02\n",
      "average reward:6000: 8.006\n",
      "average reward:7000: 7.981\n",
      "average reward:8000: 7.937\n",
      "average reward:9000: 7.772\n",
      "average reward:10000: 7.887\n",
      "average reward:11000: 8.038\n",
      "average reward:12000: 7.897\n",
      "average reward:13000: 7.966\n",
      "average reward:14000: 7.828\n",
      "average reward:15000: 7.841\n",
      "average reward:16000: 7.942\n",
      "average reward:17000: 7.853\n",
      "average reward:18000: 7.875\n",
      "average reward:19000: 7.984\n",
      "average reward:20000: 7.953\n",
      "average reward:21000: 7.941\n",
      "average reward:22000: 7.989\n",
      "average reward:23000: 7.985\n",
      "average reward:24000: 7.897\n",
      "average reward:25000: 7.987\n",
      "average reward:26000: 7.961\n",
      "average reward:27000: 7.9\n",
      "average reward:28000: 7.978\n",
      "average reward:29000: 7.949\n",
      "average reward:30000: 7.893\n",
      "average reward:31000: 7.996\n",
      "average reward:32000: 8.057\n",
      "average reward:33000: 7.981\n",
      "average reward:34000: 7.966\n",
      "average reward:35000: 7.94\n",
      "average reward:36000: 7.963\n",
      "average reward:37000: 7.984\n",
      "average reward:38000: 7.939\n",
      "average reward:39000: 7.905\n",
      "average reward:40000: 7.791\n",
      "average reward:41000: 7.869\n",
      "average reward:42000: 7.901\n",
      "average reward:43000: 7.912\n",
      "average reward:44000: 7.873\n",
      "average reward:45000: 7.908\n",
      "average reward:46000: 7.892\n",
      "average reward:47000: 7.89\n",
      "average reward:48000: 7.942\n",
      "average reward:49000: 8.001\n"
     ]
    }
   ],
   "source": [
    "for episode in range(total_episodes):\n",
    "    state= env.reset()\n",
    "    step=0\n",
    "    done=False\n",
    "    sample_reward = 0 \n",
    "    while True:\n",
    "\n",
    "        action = np.argmax(Q_table[state,:])\n",
    "\n",
    "        new_state, reward, done, info = env.step(action)\n",
    "        sample_reward += reward\n",
    "        Q_table[state, action] = Q_table[state, action] + learning_rate * (reward + gamma * np.max(Q_table[new_state, :]) - Q_table[state, action])\n",
    "        state = new_state\n",
    "\n",
    "        if done == True:\n",
    "            sample_rewards.append(sample_reward)\n",
    "            break\n",
    "            \n",
    "\n",
    "    if episode%1000 == 0:\n",
    "        mean_reward = np.mean(sample_rewards)\n",
    "        sample_rewards = []\n",
    "        print(\"average reward:\" +str(episode)+ \": \"+str(mean_reward))"
   ]
  },
  {
   "cell_type": "markdown",
   "metadata": {},
   "source": [
    "## Step 5 Test your Q table"
   ]
  },
  {
   "cell_type": "code",
   "execution_count": 19,
   "metadata": {},
   "outputs": [
    {
     "name": "stdout",
     "output_type": "stream",
     "text": [
      "test:\n",
      "average reward over 100 episode:8.1\n"
     ]
    }
   ],
   "source": [
    "env.reset()\n",
    "rewards=[]\n",
    "\n",
    "for episode in range(total_test_episodes):\n",
    "    state=env.reset()\n",
    "    step = 0\n",
    "    done =False\n",
    "    total_rewards = 0\n",
    "\n",
    "    for step in range(max_steps):\n",
    "        \n",
    "        action = np.argmax(Q_table[state,:])\n",
    "        \n",
    "        new_state, reward, done, info = env.step(action)\n",
    "        \n",
    "        total_rewards += reward\n",
    "        if done:\n",
    "            rewards.append(total_rewards)\n",
    "            break\n",
    "        state = new_state\n",
    "     \n",
    "env.close()\n",
    "print(\"test:\")\n",
    "print(\"average reward over 100 episode:\"+ str(np.mean(rewards)))"
   ]
  }
 ],
 "metadata": {
  "file_extension": ".py",
  "kernelspec": {
   "display_name": "Python 3",
   "language": "python",
   "name": "python3"
  },
  "language_info": {
   "codemirror_mode": {
    "name": "ipython",
    "version": 3
   },
   "file_extension": ".py",
   "mimetype": "text/x-python",
   "name": "python",
   "nbconvert_exporter": "python",
   "pygments_lexer": "ipython3",
   "version": "3.8.8"
  },
  "mimetype": "text/x-python",
  "name": "python",
  "npconvert_exporter": "python",
  "pygments_lexer": "ipython3",
  "version": 3
 },
 "nbformat": 4,
 "nbformat_minor": 2
}
