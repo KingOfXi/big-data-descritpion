{
 "cells": [
  {
   "cell_type": "code",
   "execution_count": 2,
   "metadata": {},
   "outputs": [],
   "source": [
    "import  pandas as pd\n",
    "import sklearn\n",
    "from sklearn.svm import SVC\n",
    "from sklearn.metrics import accuracy_score\n",
    "from sklearn.tree import DecisionTreeClassifier\n",
    "from sklearn.preprocessing import StandardScaler\n",
    "from sklearn.model_selection import GridSearchCV"
   ]
  },
  {
   "cell_type": "code",
   "execution_count": 3,
   "metadata": {},
   "outputs": [],
   "source": [
    "start2 =pd.read_csv(\"HW2_1_data.csv\")\n",
    "raw_data2=pd.DataFrame(start2)\n",
    "#去除带有空值的行,只有7行被去除\n",
    "\n",
    "raw_data2.dropna(axis=0,how=\"any\",inplace=True)"
   ]
  },
  {
   "cell_type": "code",
   "execution_count": 4,
   "metadata": {},
   "outputs": [],
   "source": [
    "#去除PH值大于14小于0的异常值，总共3行\n",
    "raw_data2.drop(index=raw_data2[(raw_data2.loc[:,'pH']>14)|(raw_data2.loc[:,'pH']<0)].index,inplace=True)\n",
    "\n",
    "#采用rbf-svm\n",
    "x=pd.DataFrame(raw_data2.iloc[:,[0,1,2,3,4,5,6,7,8,9,10]])\n",
    "y=raw_data2.iloc[:,11]"
   ]
  },
  {
   "cell_type": "code",
   "execution_count": 5,
   "metadata": {},
   "outputs": [],
   "source": [
    "#标准化\n",
    "x=StandardScaler().fit_transform(x)\n",
    "#分测试集和训练集\n",
    "x_train,x_test,y_train,y_test=sklearn.model_selection.train_test_split(x,y,test_size=0.2)"
   ]
  },
  {
   "cell_type": "code",
   "execution_count": 6,
   "metadata": {},
   "outputs": [
    {
     "data": {
      "text/plain": [
       "SVC(C=10, gamma=0.01)"
      ]
     },
     "execution_count": 6,
     "metadata": {},
     "output_type": "execute_result"
    }
   ],
   "source": [
    "#找参数\n",
    "grid = GridSearchCV(SVC(kernel='rbf'), param_grid={\"C\":[0.1, 1, 10], \"gamma\": [1, 0.1, 0.01]}, cv=5)\n",
    "grid.fit(x_train,y_train)\n",
    "clf = SVC(kernel='rbf', C=grid.best_params_['C'], gamma=grid.best_params_['gamma'])\n",
    "clf.fit(x_train, y_train)"
   ]
  },
  {
   "cell_type": "code",
   "execution_count": 7,
   "metadata": {},
   "outputs": [
    {
     "name": "stdout",
     "output_type": "stream",
     "text": [
      "HW2_1_data rbf-accuracy\n",
      "0.9790732436472347\n"
     ]
    }
   ],
   "source": [
    "#预测\n",
    "y_pred = clf.predict(x_test)\n",
    "print(\"HW2_1_data rbf-accuracy\")\n",
    "#打印精度\n",
    "print(accuracy_score(y_test,y_pred))"
   ]
  },
  {
   "cell_type": "code",
   "execution_count": 8,
   "metadata": {},
   "outputs": [],
   "source": [
    "#第二种方法处理HW2_1_data.csv\n",
    "start =pd.read_csv(\"HW2_1_data.csv\")\n",
    "raw_data=pd.DataFrame(start)\n",
    "#去除空行，7行\n",
    "raw_data.dropna(axis=0,how=\"any\",inplace=True)\n",
    "#去除PH大于14，小于0的异常值的行，1行\n",
    "raw_data.drop(index=raw_data[(raw_data.loc[:,'pH']>14)|(raw_data.loc[:,'pH']<0)].index,inplace=True)"
   ]
  },
  {
   "cell_type": "code",
   "execution_count": 9,
   "metadata": {},
   "outputs": [],
   "source": [
    "x=pd.DataFrame(raw_data.iloc[:,[0,1,2,3,4,5,6,7,8,9,10]])\n",
    "y=raw_data.iloc[:,11]\n",
    "#分训练集和测试集\n",
    "x_train,x_test,y_train,y_test=sklearn.model_selection.train_test_split(x,y, test_size=0.2)"
   ]
  },
  {
   "cell_type": "code",
   "execution_count": 10,
   "metadata": {},
   "outputs": [
    {
     "name": "stdout",
     "output_type": "stream",
     "text": [
      "HW2_1_data  决策树\n",
      "0.9715994020926756\n"
     ]
    }
   ],
   "source": [
    "#决策树\n",
    "clf = DecisionTreeClassifier(criterion='entropy')\n",
    "clf.fit(x_train, y_train)\n",
    "y_pred=clf.predict(x_test)\n",
    "#决策树的accuracy\n",
    "print(\"HW2_1_data  决策树\")\n",
    "print(accuracy_score(y_test,y_pred))"
   ]
  },
  {
   "cell_type": "code",
   "execution_count": 11,
   "metadata": {},
   "outputs": [],
   "source": [
    "#第二题\n",
    "start2 =pd.read_csv(\"HW2_2_data.csv\")\n",
    "raw_data2=pd.DataFrame(start2)\n",
    "#简单去除带有空值的行\n",
    "raw_data2.dropna(axis=0,how=\"any\",inplace=True)\n",
    "\n",
    "x=pd.DataFrame(raw_data2.iloc[:,[0,1,2]])\n",
    "y=raw_data2.iloc[:,3]"
   ]
  },
  {
   "cell_type": "code",
   "execution_count": 12,
   "metadata": {},
   "outputs": [],
   "source": [
    "#标准化\n",
    "x=StandardScaler().fit_transform(x)\n",
    "\n",
    "x_train,x_test,y_train,y_test=sklearn.model_selection.train_test_split(x,y,test_size=0.2)"
   ]
  },
  {
   "cell_type": "code",
   "execution_count": 13,
   "metadata": {},
   "outputs": [],
   "source": [
    "grid = GridSearchCV(SVC(kernel='rbf'), param_grid={\"C\":[0.1, 1, 10], \"gamma\": [1, 0.1, 0.01]}, cv=5)\n",
    "grid.fit(x_train,y_train)\n",
    "clf = SVC(kernel='rbf', C=grid.best_params_['C'], gamma=grid.best_params_['gamma'])\n",
    "clf.fit(x_train,y_train)\n",
    "y_pred = clf.predict(x_test)"
   ]
  },
  {
   "cell_type": "code",
   "execution_count": 14,
   "metadata": {},
   "outputs": [
    {
     "name": "stdout",
     "output_type": "stream",
     "text": [
      "HW2_2_data rbf-accuracy\n",
      "0.9466666666666667\n"
     ]
    }
   ],
   "source": [
    "print(\"HW2_2_data rbf-accuracy\")\n",
    "print(accuracy_score(y_test,y_pred))"
   ]
  },
  {
   "cell_type": "code",
   "execution_count": null,
   "metadata": {},
   "outputs": [],
   "source": []
  },
  {
   "cell_type": "code",
   "execution_count": null,
   "metadata": {},
   "outputs": [],
   "source": []
  }
 ],
 "metadata": {
  "kernelspec": {
   "display_name": "Python 3",
   "language": "python",
   "name": "python3"
  },
  "language_info": {
   "codemirror_mode": {
    "name": "ipython",
    "version": 3
   },
   "file_extension": ".py",
   "mimetype": "text/x-python",
   "name": "python",
   "nbconvert_exporter": "python",
   "pygments_lexer": "ipython3",
   "version": "3.8.5"
  }
 },
 "nbformat": 4,
 "nbformat_minor": 4
}
