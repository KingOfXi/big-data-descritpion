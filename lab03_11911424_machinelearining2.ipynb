{
 "cells": [
  {
   "cell_type": "code",
   "execution_count": 1,
   "metadata": {},
   "outputs": [],
   "source": [
    "import  os\n",
    "import collections\n",
    "import  numpy as np"
   ]
  },
  {
   "cell_type": "code",
   "execution_count": 2,
   "metadata": {},
   "outputs": [],
   "source": [
    "def make_Dictionary(train_dir):\n",
    "    emails=[os.path.join(train_dir,f) for f in os.listdir(train_dir)]\n",
    "    all_words=[]\n",
    "    for mail in emails:\n",
    "     with open(mail) as m:\n",
    "        for i,line in enumerate(m):\n",
    "            if i==2:\n",
    "                words=line.split()\n",
    "                all_words+=words\n",
    "    dictionary=collections.Counter(all_words)\n",
    "    list_to_remove=dictionary.keys()\n",
    "    for item in list(list_to_remove):\n",
    "        if item.isalpha()==False:\n",
    "            del dictionary[item]\n",
    "        elif len(item)==1:\n",
    "            del  dictionary[item]\n",
    "    dictionary=dictionary.most_common(3000)\n",
    "    return dictionary"
   ]
  },
  {
   "cell_type": "code",
   "execution_count": 3,
   "metadata": {},
   "outputs": [],
   "source": [
    "def extract_features(mail_dir,dictionary):\n",
    "    files=[os.path.join(mail_dir,fi)for fi in os.listdir(mail_dir)]\n",
    "    feature_matrix=np.zeros((len(files),3000))\n",
    "    docID=0\n",
    "    for fil in files:\n",
    "        with open(fil) as fi:\n",
    "            for i,line in enumerate(fi):\n",
    "                if i==2:\n",
    "                    words=line.split()\n",
    "                    for word in words:\n",
    "                        wordID=0\n",
    "                        for i,d in enumerate(dictionary):\n",
    "                            if d[0]==word:\n",
    "                                wordID=i\n",
    "                                feature_matrix[docID,wordID]+=1\n",
    "        docID+=1\n",
    "    return feature_matrix"
   ]
  },
  {
   "cell_type": "code",
   "execution_count": 4,
   "metadata": {},
   "outputs": [],
   "source": [
    "if  __name__=='__main__':\n",
    "   dic=make_Dictionary(\"D:\\\\机器学习\\\\lab3_data\\\\train-mails\")"
   ]
  },
  {
   "cell_type": "code",
   "execution_count": 5,
   "metadata": {},
   "outputs": [],
   "source": [
    "   extra_feature=extract_features(\"D:\\\\机器学习\\\\lab3_data\\\\train-mails\",dic)"
   ]
  },
  {
   "cell_type": "code",
   "execution_count": 6,
   "metadata": {},
   "outputs": [
    {
     "data": {
      "text/plain": [
       "array([[0., 0., 0., ..., 0., 0., 0.],\n",
       "       [0., 0., 0., ..., 0., 0., 0.],\n",
       "       [0., 0., 0., ..., 0., 0., 0.],\n",
       "       ...,\n",
       "       [0., 0., 0., ..., 0., 0., 0.],\n",
       "       [0., 0., 0., ..., 0., 0., 0.],\n",
       "       [0., 1., 0., ..., 0., 0., 0.]])"
      ]
     },
     "execution_count": 6,
     "metadata": {},
     "output_type": "execute_result"
    }
   ],
   "source": [
    "   extra_feature"
   ]
  },
  {
   "cell_type": "code",
   "execution_count": 8,
   "metadata": {},
   "outputs": [
    {
     "name": "stdout",
     "output_type": "stream",
     "text": [
      "702\n",
      "3000\n"
     ]
    }
   ],
   "source": [
    "   print(len(extra_feature))\n",
    "   print(extra_feature.shape[1])"
   ]
  },
  {
   "cell_type": "code",
   "execution_count": 19,
   "metadata": {},
   "outputs": [
    {
     "name": "stdout",
     "output_type": "stream",
     "text": [
      "0.5\n",
      "True\n"
     ]
    }
   ],
   "source": [
    "   y_total=len([ x for x in os.listdir(\"D:\\\\机器学习\\\\lab3_data\\\\train-mails\")]) \n",
    "   y_no=len([ x for x in os.listdir(\"D:\\\\机器学习\\\\lab3_data\\\\train-mails\") if \"spmsg\" in str(x)])\n",
    "   p_no=y_no/y_total\n",
    "   p_yes=1-p_no\n",
    "   print(p_no)\n",
    "   y_gabbge=[\"spmsg\" in str(x) for x in os.listdir(\"D:\\\\机器学习\\\\lab3_data\\\\train-mails\")]\n",
    "   print(y_gabbge[701])"
   ]
  },
  {
   "cell_type": "code",
   "execution_count": 30,
   "metadata": {},
   "outputs": [],
   "source": [
    "   y_test=[\"spmsg\" in str(x) for x in os.listdir(\"D:\\\\机器学习\\\\lab3_data\\\\test-mails\")]\n",
    "   y_pred=[]"
   ]
  },
  {
   "cell_type": "code",
   "execution_count": 31,
   "metadata": {},
   "outputs": [],
   "source": [
    "   pre_extract_features=extract_features(\"D:\\\\机器学习\\\\lab3_data\\\\test-mails\",dic)"
   ]
  },
  {
   "cell_type": "code",
   "execution_count": 32,
   "metadata": {},
   "outputs": [
    {
     "name": "stdout",
     "output_type": "stream",
     "text": [
      "260\n"
     ]
    }
   ],
   "source": [
    "   print(len(pre_extract_features))"
   ]
  },
  {
   "cell_type": "code",
   "execution_count": 33,
   "metadata": {},
   "outputs": [
    {
     "name": "stdout",
     "output_type": "stream",
     "text": [
      "0\n",
      "1\n",
      "2\n",
      "3\n",
      "4\n",
      "5\n",
      "6\n",
      "7\n",
      "8\n",
      "9\n",
      "10\n",
      "11\n",
      "12\n",
      "13\n",
      "14\n",
      "15\n",
      "16\n",
      "17\n",
      "18\n",
      "19\n",
      "20\n",
      "21\n",
      "22\n",
      "23\n",
      "24\n",
      "25\n",
      "26\n",
      "27\n",
      "28\n",
      "29\n",
      "30\n",
      "31\n",
      "32\n",
      "33\n",
      "34\n",
      "35\n",
      "36\n",
      "37\n",
      "38\n",
      "39\n",
      "40\n",
      "41\n",
      "42\n",
      "43\n",
      "44\n",
      "45\n",
      "46\n",
      "47\n",
      "48\n",
      "49\n",
      "50\n",
      "51\n",
      "52\n",
      "53\n",
      "54\n",
      "55\n",
      "56\n",
      "57\n",
      "58\n",
      "59\n",
      "60\n",
      "61\n",
      "62\n",
      "63\n",
      "64\n",
      "65\n",
      "66\n",
      "67\n",
      "68\n",
      "69\n",
      "70\n",
      "71\n",
      "72\n",
      "73\n",
      "74\n",
      "75\n",
      "76\n",
      "77\n",
      "78\n",
      "79\n",
      "80\n",
      "81\n",
      "82\n",
      "83\n",
      "84\n",
      "85\n",
      "86\n",
      "87\n",
      "88\n",
      "89\n",
      "90\n",
      "91\n",
      "92\n",
      "93\n",
      "94\n",
      "95\n",
      "96\n",
      "97\n",
      "98\n",
      "99\n",
      "100\n",
      "101\n",
      "102\n",
      "103\n",
      "104\n",
      "105\n",
      "106\n",
      "107\n",
      "108\n",
      "109\n",
      "110\n",
      "111\n",
      "112\n",
      "113\n",
      "114\n",
      "115\n",
      "116\n",
      "117\n",
      "118\n",
      "119\n",
      "120\n",
      "121\n",
      "122\n",
      "123\n",
      "124\n",
      "125\n",
      "126\n",
      "127\n",
      "128\n",
      "129\n",
      "130\n",
      "131\n",
      "132\n",
      "133\n",
      "134\n",
      "135\n",
      "136\n",
      "137\n",
      "138\n",
      "139\n",
      "140\n",
      "141\n",
      "142\n",
      "143\n",
      "144\n",
      "145\n",
      "146\n",
      "147\n",
      "148\n",
      "149\n",
      "150\n",
      "151\n",
      "152\n",
      "153\n",
      "154\n",
      "155\n",
      "156\n",
      "157\n",
      "158\n",
      "159\n",
      "160\n",
      "161\n",
      "162\n",
      "163\n",
      "164\n",
      "165\n",
      "166\n",
      "167\n",
      "168\n",
      "169\n",
      "170\n",
      "171\n",
      "172\n",
      "173\n",
      "174\n",
      "175\n",
      "176\n",
      "177\n",
      "178\n",
      "179\n",
      "180\n",
      "181\n",
      "182\n",
      "183\n",
      "184\n",
      "185\n",
      "186\n",
      "187\n",
      "188\n",
      "189\n",
      "190\n",
      "191\n",
      "192\n",
      "193\n",
      "194\n",
      "195\n",
      "196\n",
      "197\n",
      "198\n",
      "199\n",
      "200\n",
      "201\n",
      "202\n",
      "203\n",
      "204\n",
      "205\n",
      "206\n",
      "207\n",
      "208\n",
      "209\n",
      "210\n",
      "211\n",
      "212\n",
      "213\n",
      "214\n",
      "215\n",
      "216\n",
      "217\n",
      "218\n",
      "219\n",
      "220\n",
      "221\n",
      "222\n",
      "223\n",
      "224\n",
      "225\n",
      "226\n",
      "227\n",
      "228\n",
      "229\n",
      "230\n",
      "231\n",
      "232\n",
      "233\n",
      "234\n",
      "235\n",
      "236\n",
      "237\n",
      "238\n",
      "239\n",
      "240\n",
      "241\n",
      "242\n",
      "243\n",
      "244\n",
      "245\n",
      "246\n",
      "247\n",
      "248\n",
      "249\n",
      "250\n",
      "251\n",
      "252\n",
      "253\n",
      "254\n",
      "255\n",
      "256\n",
      "257\n",
      "258\n",
      "259\n"
     ]
    }
   ],
   "source": [
    "   for i in range(len(pre_extract_features)):\n",
    "        print(i)\n",
    "        p_no2=p_no\n",
    "        p_yes2=p_yes\n",
    "        for j in range(3000):\n",
    "            bingo=0\n",
    "            bingo2=0\n",
    "            for k in range(y_total):\n",
    "                if y_gabbge[k]==False and extra_feature[k][j]== pre_extract_features[i][j]:\n",
    "                    bingo+=1\n",
    "            p_no2*=(bingo/351)\n",
    "            for k in range(y_total):\n",
    "                if y_gabbge[k]==True and extra_feature[k][j]== pre_extract_features[i][j]:\n",
    "                    bingo2+=1\n",
    "            p_yes2*=(bingo2/351)\n",
    "        if p_no2<p_yes2:\n",
    "            y_pred.append(True)\n",
    "        else:\n",
    "            y_pred.append(False)"
   ]
  },
  {
   "cell_type": "code",
   "execution_count": 35,
   "metadata": {},
   "outputs": [
    {
     "name": "stdout",
     "output_type": "stream",
     "text": [
      "260\n",
      "260\n"
     ]
    }
   ],
   "source": [
    "   print(len(y_pred))\n",
    "   print(len(y_test))"
   ]
  },
  {
   "cell_type": "code",
   "execution_count": 36,
   "metadata": {},
   "outputs": [
    {
     "name": "stdout",
     "output_type": "stream",
     "text": [
      "0.65\n"
     ]
    }
   ],
   "source": [
    "   from sklearn.metrics import confusion_matrix\n",
    "   tn,fp,fn,tp=confusion_matrix(y_test, y_pred).ravel()\n",
    "   accuracy=(tn+tp)/(tn+fp+fn+tp)\n",
    "   print(accuracy)"
   ]
  },
  {
   "cell_type": "code",
   "execution_count": 37,
   "metadata": {},
   "outputs": [
    {
     "name": "stdout",
     "output_type": "stream",
     "text": [
      "0.4615384615384615\n"
     ]
    }
   ],
   "source": [
    "   recall=(tp)/(tp+fn)\n",
    "   precision=(tp)/(tp+fp)\n",
    "   f1_score=(recall*precision)/(recall+precision)*2\n",
    "   print(f1_score)"
   ]
  },
  {
   "cell_type": "code",
   "execution_count": null,
   "metadata": {},
   "outputs": [],
   "source": [
    "Q1： 通过犯罪地点，犯罪类型，犯罪详细描述预测犯罪的处理结果\n",
    "Q2:  优点是算法殴简单，易于实现。分类过程时空开销小。\n",
    "Q3: 假设属性之间相互独立，属性相关性越大，分类误差越大。\n",
    "Q4:对于已知数据，可以选择其中关联性较小的列进行训练，减小其分类误差。"
   ]
  }
 ],
 "metadata": {
  "kernelspec": {
   "display_name": "Python 3",
   "language": "python",
   "name": "python3"
  },
  "language_info": {
   "codemirror_mode": {
    "name": "ipython",
    "version": 3
   },
   "file_extension": ".py",
   "mimetype": "text/x-python",
   "name": "python",
   "nbconvert_exporter": "python",
   "pygments_lexer": "ipython3",
   "version": "3.8.5"
  }
 },
 "nbformat": 4,
 "nbformat_minor": 4
}
